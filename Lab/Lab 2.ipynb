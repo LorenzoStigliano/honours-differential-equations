{
 "cells": [
  {
   "cell_type": "markdown",
   "metadata": {},
   "source": [
    "# Lab 2: Numerical solutions of ODEs\n",
    "\n",
    "In this Lab we will work with the implementations of numerical schemes provided by Jacques, and use these to solve problems from Chapter 8 of Boyce & DiPrima."
   ]
  },
  {
   "cell_type": "markdown",
   "metadata": {},
   "source": [
    "## 1. The numerical schemes\n",
    "\n",
    "Here is the code provided by Jacques in the notebook `ODEmanySchemes`:"
   ]
  },
  {
   "cell_type": "code",
   "execution_count": 1,
   "metadata": {},
   "outputs": [],
   "source": [
    "# Import packages\n",
    "import numpy as np\n",
    "import matplotlib.pyplot as plt\n",
    "%matplotlib notebook\n",
    "\n",
    "\n",
    "# Euler scheme\n",
    "def Euler(vectorField,times,initialConditions):\n",
    "    n = vectorField(initialConditions,times[0]).size\n",
    "    x = np.zeros((times.size,n))\n",
    "    x[0,:] = initialConditions\n",
    "    for k, t in enumerate(times[:-1]):\n",
    "        x[k+1,:] = x[k,:]+(times[k+1]-t)*vectorField(x[k,:],t)\n",
    "    return x\n",
    "\n",
    "# Heun scheme\n",
    "def Heun(vectorField,times,initialConditions):\n",
    "    n = vectorField(initialConditions,times[0]).size\n",
    "    x = np.zeros((times.size,n))\n",
    "    x[0,:] = initialConditions\n",
    "    for k, t in enumerate(times[:-1]):\n",
    "        dt = times[k+1]-t\n",
    "        f1 = vectorField(x[k,:],t)\n",
    "        f2 = vectorField(x[k,:]+dt*f1,t+dt)\n",
    "        x[k+1,:] = x[k,:]+0.5*dt*(f1+f2)\n",
    "    return x\n",
    "\n",
    "# Runge--Kutta 4 scheme\n",
    "def RungeKutta(vectorField,times,initialConditions):\n",
    "    n = vectorField(initialConditions,times[0]).size\n",
    "    x = np.zeros((times.size,n))\n",
    "    x[0,:] = initialConditions\n",
    "    for k, t in enumerate(times[:-1]):\n",
    "        dt=times[k+1]-t\n",
    "        f1 = vectorField(x[k,:],t)\n",
    "        f2 = vectorField(x[k,:]+0.5*dt*f1,t+0.5*dt)\n",
    "        f3 = vectorField(x[k,:]+0.5*dt*f2,t+0.5*dt)\n",
    "        f4 =vectorField(x[k,:]+dt*f3,t+dt)\n",
    "        x[k+1,:] = x[k,:]+dt/6*(f1+2*f2+2*f3+f4)\n",
    "    return x\n",
    "\n",
    "# Adams--Bashforth 2 (here needing a fixed timestep)\n",
    "def AdamsBashforth2(vectorField,initialTime,finalTime,nSteps,initialConditions):\n",
    "    n = 1#vectorField(initialConditions,initialTime).size\n",
    "    dt=(finalTime-initialTime)/nSteps\n",
    "    t=np.linspace(initialTime,finalTime,nSteps+1)\n",
    "    x = np.zeros((nSteps+1,n))\n",
    "    x[0,:] = initialConditions\n",
    "    # First step using Euler\n",
    "    vField = vectorField(x[0,:],initialTime)\n",
    "    x[1,:] = x[0,:]+dt*vField\n",
    "    # Other steps\n",
    "    for k in range(1,nSteps):\n",
    "        vFieldOld = vField\n",
    "        vField = vectorField(x[k,:],initialTime+k*dt)\n",
    "        x[k+1,:] = x[k,:]+(1.5*vField-0.5*vFieldOld)*dt\n",
    "       \n",
    "    return x, t "
   ]
  },
  {
   "cell_type": "markdown",
   "metadata": {},
   "source": [
    "<div class=\"alert alert-info\">\n",
    "    <h3>Exercise 1.1</h3>\n",
    "\n",
    "**(a)** What is the purpose of `enumerate(times[:-1])` as used in the first three functions?\n",
    "\n",
    "**(b)** In AdamsBashforth2, why `+1` in `t=np.linspace(initialTime,finalTime,nSteps+1)`?\n",
    "\n",
    "</div>"
   ]
  },
  {
   "cell_type": "markdown",
   "metadata": {},
   "source": [
    "**Answers**\n",
    "\n",
    "**(a)** you have a list of all the numbers excet the last times step. Since we allways get dt=times[k+1]-t we dont want a index error.\n",
    "\n",
    "**(b)**Because it is a 2nd and we need a 2nd linestep."
   ]
  },
  {
   "cell_type": "markdown",
   "metadata": {},
   "source": [
    "Boyce & DiPrima Chapter 8 uses the equation $$y'=1-t+4y, \\\\y(0)=1$$ throughout to illustrate these different numerical methods. \n",
    "\n",
    "Here we define a function `eq7_dy_dt` that gives the value of the derivative $y'$ at a given point, then use the `Euler` method to solve the equation numerically with step size $h=0.01$:"
   ]
  },
  {
   "cell_type": "markdown",
   "metadata": {},
   "source": [
    "<span class=\"label label-danger\">Task</span>\n",
    "Why is it `np.linspace(0,2,201)` and not `np.linspace(0,2,200)`? Try changing the code and see what happens."
   ]
  },
  {
   "cell_type": "code",
   "execution_count": 4,
   "metadata": {},
   "outputs": [
    {
     "data": {
      "text/plain": [
       "array([[1.00000000e+00],\n",
       "       [1.05000000e+00],\n",
       "       [1.10190000e+00],\n",
       "       [1.15577600e+00],\n",
       "       [1.21170704e+00],\n",
       "       [1.26977532e+00],\n",
       "       [1.33006633e+00],\n",
       "       [1.39266899e+00],\n",
       "       [1.45767575e+00],\n",
       "       [1.52518278e+00],\n",
       "       [1.59529009e+00],\n",
       "       [1.66810169e+00],\n",
       "       [1.74372576e+00],\n",
       "       [1.82227479e+00],\n",
       "       [1.90386578e+00],\n",
       "       [1.98862041e+00],\n",
       "       [2.07666523e+00],\n",
       "       [2.16813184e+00],\n",
       "       [2.26315711e+00],\n",
       "       [2.36188340e+00],\n",
       "       [2.46445873e+00],\n",
       "       [2.57103708e+00],\n",
       "       [2.68177856e+00],\n",
       "       [2.79684971e+00],\n",
       "       [2.91642370e+00],\n",
       "       [3.04068064e+00],\n",
       "       [3.16980787e+00],\n",
       "       [3.30400018e+00],\n",
       "       [3.44346019e+00],\n",
       "       [3.58839860e+00],\n",
       "       [3.73903454e+00],\n",
       "       [3.89559592e+00],\n",
       "       [4.05831976e+00],\n",
       "       [4.22745255e+00],\n",
       "       [4.40325065e+00],\n",
       "       [4.58598068e+00],\n",
       "       [4.77591991e+00],\n",
       "       [4.97335670e+00],\n",
       "       [5.17859097e+00],\n",
       "       [5.39193461e+00],\n",
       "       [5.61371200e+00],\n",
       "       [5.84426048e+00],\n",
       "       [6.08393089e+00],\n",
       "       [6.33308813e+00],\n",
       "       [6.59211166e+00],\n",
       "       [6.86139612e+00],\n",
       "       [7.14135197e+00],\n",
       "       [7.43240605e+00],\n",
       "       [7.73500229e+00],\n",
       "       [8.04960238e+00],\n",
       "       [8.37668647e+00],\n",
       "       [8.71675393e+00],\n",
       "       [9.07032409e+00],\n",
       "       [9.43793705e+00],\n",
       "       [9.82015454e+00],\n",
       "       [1.02175607e+01],\n",
       "       [1.06307631e+01],\n",
       "       [1.10603937e+01],\n",
       "       [1.15071094e+01],\n",
       "       [1.19715938e+01],\n",
       "       [1.24545575e+01],\n",
       "       [1.29567398e+01],\n",
       "       [1.34789094e+01],\n",
       "       [1.40218658e+01],\n",
       "       [1.45864405e+01],\n",
       "       [1.51734981e+01],\n",
       "       [1.57839380e+01],\n",
       "       [1.64186955e+01],\n",
       "       [1.70787433e+01],\n",
       "       [1.77650931e+01],\n",
       "       [1.84787968e+01],\n",
       "       [1.92209487e+01],\n",
       "       [1.99926866e+01],\n",
       "       [2.07951941e+01],\n",
       "       [2.16297018e+01],\n",
       "       [2.24974899e+01],\n",
       "       [2.33998895e+01],\n",
       "       [2.43382851e+01],\n",
       "       [2.53141165e+01],\n",
       "       [2.63288811e+01],\n",
       "       [2.73841364e+01],\n",
       "       [2.84815019e+01],\n",
       "       [2.96226619e+01],\n",
       "       [3.08093684e+01],\n",
       "       [3.20434431e+01],\n",
       "       [3.33267809e+01],\n",
       "       [3.46613521e+01],\n",
       "       [3.60492062e+01],\n",
       "       [3.74924744e+01],\n",
       "       [3.89933734e+01],\n",
       "       [4.05542083e+01],\n",
       "       [4.21773767e+01],\n",
       "       [4.38653717e+01],\n",
       "       [4.56207866e+01],\n",
       "       [4.74463181e+01],\n",
       "       [4.93447708e+01],\n",
       "       [5.13190616e+01],\n",
       "       [5.33722241e+01],\n",
       "       [5.55074131e+01],\n",
       "       [5.77279096e+01],\n",
       "       [6.00371260e+01],\n",
       "       [6.24386110e+01],\n",
       "       [6.49360554e+01],\n",
       "       [6.75332977e+01],\n",
       "       [7.02343296e+01],\n",
       "       [7.30433028e+01],\n",
       "       [7.59645349e+01],\n",
       "       [7.90025163e+01],\n",
       "       [8.21619169e+01],\n",
       "       [8.54475936e+01],\n",
       "       [8.88645973e+01],\n",
       "       [9.24181812e+01],\n",
       "       [9.61138085e+01],\n",
       "       [9.99571608e+01],\n",
       "       [1.03954147e+02],\n",
       "       [1.08110913e+02],\n",
       "       [1.12433850e+02],\n",
       "       [1.16929604e+02],\n",
       "       [1.21605088e+02],\n",
       "       [1.26467491e+02],\n",
       "       [1.31524291e+02],\n",
       "       [1.36783263e+02],\n",
       "       [1.42252493e+02],\n",
       "       [1.47940393e+02],\n",
       "       [1.53855709e+02],\n",
       "       [1.60007537e+02],\n",
       "       [1.66405338e+02],\n",
       "       [1.73058952e+02],\n",
       "       [1.79978610e+02],\n",
       "       [1.87174954e+02],\n",
       "       [1.94659053e+02],\n",
       "       [2.02442415e+02],\n",
       "       [2.10537011e+02],\n",
       "       [2.18955292e+02],\n",
       "       [2.27710203e+02],\n",
       "       [2.36815211e+02],\n",
       "       [2.46284320e+02],\n",
       "       [2.56132093e+02],\n",
       "       [2.66373676e+02],\n",
       "       [2.77024823e+02],\n",
       "       [2.88101916e+02],\n",
       "       [2.99621993e+02],\n",
       "       [3.11602773e+02],\n",
       "       [3.24062684e+02],\n",
       "       [3.37020891e+02],\n",
       "       [3.50497327e+02],\n",
       "       [3.64512720e+02],\n",
       "       [3.79088629e+02],\n",
       "       [3.94247474e+02],\n",
       "       [4.10012573e+02],\n",
       "       [4.26408176e+02],\n",
       "       [4.43459503e+02],\n",
       "       [4.61192783e+02],\n",
       "       [4.79635294e+02],\n",
       "       [4.98815406e+02],\n",
       "       [5.18762622e+02],\n",
       "       [5.39507627e+02],\n",
       "       [5.61082332e+02],\n",
       "       [5.83519925e+02],\n",
       "       [6.06854922e+02],\n",
       "       [6.31123219e+02],\n",
       "       [6.56362148e+02],\n",
       "       [6.82610534e+02],\n",
       "       [7.09908755e+02],\n",
       "       [7.38298805e+02],\n",
       "       [7.67824358e+02],\n",
       "       [7.98530832e+02],\n",
       "       [8.30465465e+02],\n",
       "       [8.63677384e+02],\n",
       "       [8.98217679e+02],\n",
       "       [9.34139486e+02],\n",
       "       [9.71498066e+02],\n",
       "       [1.01035089e+03],\n",
       "       [1.05075772e+03],\n",
       "       [1.09278073e+03],\n",
       "       [1.13648456e+03],\n",
       "       [1.18193644e+03],\n",
       "       [1.22920630e+03],\n",
       "       [1.27836685e+03],\n",
       "       [1.32949373e+03],\n",
       "       [1.38266558e+03],\n",
       "       [1.43796420e+03],\n",
       "       [1.49547467e+03],\n",
       "       [1.55528546e+03],\n",
       "       [1.61748857e+03],\n",
       "       [1.68217972e+03],\n",
       "       [1.74945841e+03],\n",
       "       [1.81942814e+03],\n",
       "       [1.89219657e+03],\n",
       "       [1.96787563e+03],\n",
       "       [2.04658176e+03],\n",
       "       [2.12843603e+03],\n",
       "       [2.21356437e+03],\n",
       "       [2.30209774e+03],\n",
       "       [2.39417235e+03],\n",
       "       [2.48992985e+03],\n",
       "       [2.58951754e+03],\n",
       "       [2.69308864e+03],\n",
       "       [2.80080249e+03],\n",
       "       [2.91282479e+03],\n",
       "       [3.02932788e+03]])"
      ]
     },
     "execution_count": 4,
     "metadata": {},
     "output_type": "execute_result"
    }
   ],
   "source": [
    "def eq7_dy_dt(y, t):\n",
    "    return 1 - t + 4*y\n",
    "\n",
    "times = np.linspace(0,2,201)\n",
    "len(times),len(times[:-1])\n",
    "eq7_euler = Euler(eq7_dy_dt, times, 1)\n",
    "eq7_euler"
   ]
  },
  {
   "cell_type": "markdown",
   "metadata": {},
   "source": [
    "We can check that the final value this gives (corresponding to $t=2$) agrees with the value $3029.3279$ given in Table 8.1.1 in the book:"
   ]
  },
  {
   "cell_type": "code",
   "execution_count": 5,
   "metadata": {},
   "outputs": [
    {
     "data": {
      "text/plain": [
       "array([3029.32787693])"
      ]
     },
     "execution_count": 5,
     "metadata": {},
     "output_type": "execute_result"
    }
   ],
   "source": [
    "eq7_euler[-1]"
   ]
  },
  {
   "cell_type": "markdown",
   "metadata": {},
   "source": [
    "In fact, by creating a `DataFrame` object using the [Pandas package](https://pandas.pydata.org/pandas-docs/stable/reference/api/pandas.DataFrame.html), we can see the whole table of values:"
   ]
  },
  {
   "cell_type": "code",
   "execution_count": null,
   "metadata": {},
   "outputs": [],
   "source": [
    "from pandas import DataFrame\n",
    "a = DataFrame(data = eq7_euler, index = times, columns = [\"h=0.01\"])\n",
    "a"
   ]
  },
  {
   "cell_type": "markdown",
   "metadata": {},
   "source": [
    "<div class=\"alert alert-info\">\n",
    "    <h3>Exercise 1.2</h3>\n",
    "\n",
    "**(a)** Write code to check the final value in the $h=0.001$ column, $3484.1608$.\n",
    "\n",
    "**(b)** Check that applying the Heun method with $h=0.01$ gives $3532.8789$ when $t=2$, as in Table 8.2.1 of the book.\n",
    "\n",
    "</div>"
   ]
  },
  {
   "cell_type": "code",
   "execution_count": null,
   "metadata": {},
   "outputs": [],
   "source": [
    "def eq8_dy_dt(y, t):\n",
    "    return 1 - t + 4*y\n",
    "\n",
    "times = np.linspace(0,2,2001)\n",
    "eq8_euler = Euler(eq8_dy_dt, times, 1)\n",
    "eq8_euler[-1]\n"
   ]
  },
  {
   "cell_type": "code",
   "execution_count": null,
   "metadata": {},
   "outputs": [],
   "source": [
    "def eq9_dy_dt(y, t):\n",
    "    return 1 - t + 4*y\n",
    "\n",
    "times = np.linspace(0,2,201)\n",
    "eq9_heun = Heun(eq9_dy_dt, times, 1)\n",
    "eq9_heun[-1]\n"
   ]
  },
  {
   "cell_type": "markdown",
   "metadata": {},
   "source": [
    "## 2. Standardising the arguments\n",
    "\n",
    "Notice that the first three methods (`Euler`, `Heun` and `RungeKutta`) have the same pattern of arguments, but the fourth method (`AdamsBashforth2`) is different. Furthermore, none of the four methods accepts a step size (e.g. $h=0.05$), which is the parameter that we would like to vary.\n",
    "\n",
    "In this section, we will fix these issues by creating four new versions of the functions which can be used interchangeably.\n",
    "\n",
    "The first step is to create a new function that will create the `times` needed in the first three methods."
   ]
  },
  {
   "cell_type": "markdown",
   "metadata": {},
   "source": [
    "Here is a basic implementation of a `timesteps` function, which generates an array of numbers starting at the value `start` and increasing with step size `h` until the value `stop` is reached."
   ]
  },
  {
   "cell_type": "code",
   "execution_count": null,
   "metadata": {},
   "outputs": [],
   "source": [
    "import math\n",
    "def timesteps(start, stop, h):\n",
    "    num_steps = math.ceil((stop - start)/h)\n",
    "    return np.linspace(start, start+num_steps*h, num_steps+1)\n",
    "\n",
    "(timesteps(0, 0.5, h = 0.1))"
   ]
  },
  {
   "cell_type": "markdown",
   "metadata": {},
   "source": [
    "<span class=\"label label-danger\">Task</span>\n",
    "Check that this function does indeed work as expected, by trying it out with different inputs. Think about different tricky cases which might break the code, and try those!"
   ]
  },
  {
   "cell_type": "markdown",
   "metadata": {},
   "source": [
    "<div class=\"alert alert-info\">\n",
    "    <h3>Exercise 2.1</h3>\n",
    "\n",
    "Produce new functions `Euler_step`, `Heun_step`, `RungeKutta_step` and `AdamsBashforth2_step`, which use the four functions provided by Jacques to solve a given equation numerically. Each of the new functions should take in the arguments:\n",
    "\n",
    "* `vectorField` - a function defining the differential equation\n",
    "* `start` - the initial time\n",
    "* `stop` - the end time\n",
    "* `h` - the step size\n",
    "* `ics` - the intial conditions\n",
    "\n",
    "and return both the values of the numerical solution and the list of time steps (like in the `AdamsBashforth2` function).\n",
    "\n",
    "</div>\n",
    "\n",
    "Note - you should **not** copy and modify the original functions given above. Instead, you should call those functions from within your own ones, having worked out the appropriate values to pass to them."
   ]
  },
  {
   "cell_type": "code",
   "execution_count": null,
   "metadata": {},
   "outputs": [],
   "source": [
    "def Euler_step(vectorField, start, stop, h, ics):\n",
    "    t = timesteps(start, stop, h)\n",
    "    x = Euler(vectorField, t, ics)\n",
    "    return x, t\n",
    "\n",
    "def Heun_step(vectorField, start, stop, h, ics):\n",
    "    t = timesteps(start, stop, h)\n",
    "    x = Heun(vectorField, t, ics)\n",
    "    return x, t\n",
    "\n",
    "def RungeKutta_step(vectorField, start, stop, h, ics):\n",
    "    t = timesteps(start, stop, h)\n",
    "    x = RungeKutta(vectorField, t, ics)\n",
    "    return x, t\n",
    "\n",
    "def AdamsBashforth2_step(vectorField, start, stop, h, ics):\n",
    "    t = timesteps(start, stop, h)\n",
    "    num_steps = len(t)-1\n",
    "    return AdamsBashforth2(vectorField,start,stop,num_steps,ics)\n",
    "    "
   ]
  },
  {
   "cell_type": "markdown",
   "metadata": {},
   "source": [
    "## 3. Building tables\n",
    "\n",
    "Now that we have these four functions with consistent arguments, we can easily replicate all the tables in Boyce & DiPrima, and solve further exercises.\n",
    "\n",
    "For instance, we can produce one column of Table 8.1.1 with the following code:"
   ]
  },
  {
   "cell_type": "code",
   "execution_count": null,
   "metadata": {},
   "outputs": [],
   "source": [
    "eq7_E_values, eq7_E_times = Euler_step(eq7_dy_dt, 0, 2, h = 0.01, ics = 1)\n",
    "DataFrame(data = eq7_E_values, index = eq7_E_times, columns = [\"h=0.01\"])"
   ]
  },
  {
   "cell_type": "markdown",
   "metadata": {},
   "source": [
    "### Detour: list comprehensions and joining DataFrames\n",
    "\n",
    "It would be possible at this point to copy/paste the above code, and make small changes to get other columns of the table. However, we can be a bit more efficient than that by making use of **list comprehensions**.\n",
    "\n",
    "These are very similar to the standard mathematical notation for sets, e.g. $$\\left\\{x^2\\,:\\,x\\in\\{1,2,3\\}\\right\\} = \\{1^2, 2^2, 3^2\\}$$ could be written in Python as:"
   ]
  },
  {
   "cell_type": "code",
   "execution_count": null,
   "metadata": {},
   "outputs": [],
   "source": [
    "[x ** 2 for x in [1,2,3]]"
   ]
  },
  {
   "cell_type": "markdown",
   "metadata": {},
   "source": [
    "Here we use a list comprehension to produce a DataFrame where the column of values is given by a certain power of the row index:"
   ]
  },
  {
   "cell_type": "code",
   "execution_count": null,
   "metadata": {},
   "outputs": [],
   "source": [
    "def x_to_power(n):\n",
    "    return DataFrame(data = [x ** n for x in range(11)], columns = [\"x^\"+str(n)])\n",
    "\n",
    "x_to_power(2)"
   ]
  },
  {
   "cell_type": "markdown",
   "metadata": {},
   "source": [
    "<span class=\"label label-danger\">Task</span>\n",
    "Try changing `range(5)` in the definition of `x_to_power` so that the squares of 1 to 10 are printed instead."
   ]
  },
  {
   "cell_type": "markdown",
   "metadata": {},
   "source": [
    "We can use list comprehensions to produce many such DataFrames, each one with a different power:"
   ]
  },
  {
   "cell_type": "code",
   "execution_count": null,
   "metadata": {},
   "outputs": [],
   "source": [
    "dfs = [x_to_power(n) for n in [2,3,4]]\n",
    "dfs[2] # try changing 0 to see the other DataFrames"
   ]
  },
  {
   "cell_type": "markdown",
   "metadata": {},
   "source": [
    "To put these columns into a single DataFrame, we can use the `join` function:"
   ]
  },
  {
   "cell_type": "code",
   "execution_count": null,
   "metadata": {},
   "outputs": [],
   "source": [
    "dfs[0].join(dfs[1])"
   ]
  },
  {
   "cell_type": "markdown",
   "metadata": {},
   "source": [
    "In fact, it can be used to join multiple DataFrames at the same time:"
   ]
  },
  {
   "cell_type": "code",
   "execution_count": null,
   "metadata": {},
   "outputs": [],
   "source": [
    "dfs[0].join(dfs[1:])"
   ]
  },
  {
   "cell_type": "markdown",
   "metadata": {},
   "source": [
    "Putting that all together, here we build up a table in one chunk:"
   ]
  },
  {
   "cell_type": "code",
   "execution_count": null,
   "metadata": {},
   "outputs": [],
   "source": [
    "dfs2 = [x_to_power(n) for n in [0.5, 2, 3, 4]]\n",
    "dfs2[0].join(dfs2[1:])"
   ]
  },
  {
   "cell_type": "markdown",
   "metadata": {},
   "source": [
    "Note that we can also use the `filter` function to pick out certain rows from the DataFrame - we use the `items` argument to specify the values of the row index, and `axis=0` to specify that it's rows rather than columns that we are selecting:"
   ]
  },
  {
   "cell_type": "code",
   "execution_count": null,
   "metadata": {},
   "outputs": [],
   "source": [
    "big_df = dfs2[0].join(dfs2[1:])\n",
    "big_df.filter(items=[2, 4], axis=0)"
   ]
  },
  {
   "cell_type": "markdown",
   "metadata": {},
   "source": [
    "<div class=\"alert alert-info\">\n",
    "    <h3>Exercise 3.1</h3>\n",
    "\n",
    "**(a)** Write a `produce_df` function that takes in a `method` (which will be a function, like `Euler_step`) and all the arguments from Exercise 2.1, and returns a DataFrame showing the result of applying that method with the given data. In particular, `produce_df(Euler_step, eq7_dy_dt, 0, 2, 0.01, 1)` should produce the same table that we saw just before the Detour.\n",
    "\n",
    "**(b)** Use the `produce_df` function, and the joining technique outlined above, to replicate Table 8.1.1 from Boyce & DiPrima.\n",
    "\n",
    "</div>"
   ]
  },
  {
   "cell_type": "code",
   "execution_count": null,
   "metadata": {},
   "outputs": [],
   "source": [
    "def produce_df(method,vectorField, start, stop, h, ics):\n",
    "    x, t = method(vectorField, start, stop, h, ics)\n",
    "    return DataFrame(data = x, index = np.round(t, 3), columns = [str(method)+\" h=\"+str(h)])\n",
    "\n",
    "produce_df(Euler_step, eq7_dy_dt, 0, 2, 0.01, 1)"
   ]
  },
  {
   "cell_type": "code",
   "execution_count": null,
   "metadata": {},
   "outputs": [],
   "source": [
    "book_table = [produce_df(Euler_step, eq7_dy_dt, 0, 2, h, 1) for h in [0.05,0.025,0.01,0.001]]\n",
    "final_table = book_table[0].join(book_table[1:])\n",
    "final_table"
   ]
  },
  {
   "cell_type": "markdown",
   "metadata": {},
   "source": [
    "We can also easily plot the different columns of a DataFrame using the `matplotlib.pyplot` library that we used at the end of Lab 1:"
   ]
  },
  {
   "cell_type": "code",
   "execution_count": null,
   "metadata": {},
   "outputs": [],
   "source": [
    "import matplotlib.pyplot as plt\n",
    "big_df.plot()"
   ]
  },
  {
   "cell_type": "markdown",
   "metadata": {},
   "source": [
    "<div class=\"alert alert-info\">\n",
    "    <h3>Exercise 3.2</h3>\n",
    "\n",
    "Using the DataFrame constructed in the previous exercise, produce a plot of the different solutions from Table 8.1.1\n",
    "\n",
    "</div>"
   ]
  },
  {
   "cell_type": "code",
   "execution_count": null,
   "metadata": {},
   "outputs": [],
   "source": [
    "import matplotlib.pyplot as plt\n",
    "final_table.plot()"
   ]
  },
  {
   "cell_type": "markdown",
   "metadata": {},
   "source": [
    "The plot looks strangely patchy. This is because the DataFrame actually has some missing values, as we can see in this example:"
   ]
  },
  {
   "cell_type": "code",
   "execution_count": null,
   "metadata": {},
   "outputs": [],
   "source": [
    "example_dfs = [produce_df(Euler_step, eq7_dy_dt, 0, 2, h, 1) for h in [0.1, 0.01]]\n",
    "example_table = example_dfs[0].join(example_dfs[1:])\n",
    "example_table.plot()"
   ]
  },
  {
   "cell_type": "markdown",
   "metadata": {},
   "source": [
    "The reason for this is that in the original data, some of the times actually have small rounding errors:"
   ]
  },
  {
   "cell_type": "code",
   "execution_count": null,
   "metadata": {},
   "outputs": [],
   "source": [
    "values, times = Euler_step(eq7_dy_dt, 0, 2, h = 0.01, ics = 1)\n",
    "\n",
    "# Print the first 50 times - they look OK\n",
    "print(times[:50])\n",
    "\n",
    "# Forcing numpy to print more decimal places, we see the problem:\n",
    "with np.printoptions(precision=20):\n",
    "    print(times[:50])"
   ]
  },
  {
   "cell_type": "markdown",
   "metadata": {},
   "source": [
    "Since the times are used to join together corresponding rows of the DataFrames, this causes a problem. We can fix it by setting the `index` of the DataFrame to be a rounded version of the time, using `np.round`:"
   ]
  },
  {
   "cell_type": "code",
   "execution_count": null,
   "metadata": {},
   "outputs": [],
   "source": [
    "def produce_df(method, vectorField, start, stop, h, ics):\n",
    "    values, times = method(vectorField, start, stop, h, ics)\n",
    "    return DataFrame(data = values, index = np.round(times, 3), columns = [\"h = \"+str(h)])"
   ]
  },
  {
   "cell_type": "markdown",
   "metadata": {},
   "source": [
    "<span class=\"label label-danger\">Task</span>\n",
    "Fix your `produce_df` function and check that the plots now work."
   ]
  },
  {
   "cell_type": "markdown",
   "metadata": {},
   "source": [
    "<div class=\"alert alert-info\">\n",
    "    <h3>Exercise 3.3</h3>\n",
    "\n",
    "Put all of this together to produce a table like the following one, and to plot the different columns.\n",
    "\n",
    "Note: the final column shows the exact solution, $y=\\frac14 t-\\frac{3}{16}+\\frac{19}{16}e^{4t}$.\n",
    "\n",
    "</div>\n",
    "\n",
    "|     | Euler, h=0.01 | Heun, h=0.01 | RK, h=0.01  | AB, h=0.01  | Exact       |\n",
    "|-----|---------------|--------------|-------------|-------------|-------------|\n",
    "| 0.0 | 1.000000      | 1.000000     | 1.000000    | 1.000000    | 1.000000    |\n",
    "| 0.1 | 1.595290      | 1.608858     | 1.609042    | 1.607223    | 1.609042    |\n",
    "| 0.2 | 2.464459      | 2.504783     | 2.505330    | 2.501929    | 2.505330    |\n",
    "| 0.3 | 3.739035      | 3.828915     | 3.830139    | 3.824042    | 3.830139    |\n",
    "| 0.4 | 5.613712      | 5.791791     | 5.794226    | 5.783604    | 5.794226    |\n",
    "| 0.5 | 8.376686      | 8.707464     | 8.712004    | 8.693881    | 8.712004    |\n",
    "| 1.0 | 60.037126     | 64.830722    | 64.897798   | 64.679828   | 64.897803   |\n",
    "| 1.5 | 426.408176    | 478.515883   | 479.259133  | 477.028224  | 479.259192  |\n",
    "| 2.0 | 3029.327877   | 3532.878861  | 3540.199525 | 3519.137591 | 3540.200110 |\n"
   ]
  },
  {
   "cell_type": "code",
   "execution_count": null,
   "metadata": {},
   "outputs": [],
   "source": [
    "book_table = [produce_df(method, eq7_dy_dt, 0, 2, 0.1, 1) for method in [Euler_step,Heun_step,RungeKutta_step,AdamsBashforth2_step]]\n",
    "a = book_table[0].rename(columns = {\"<function Euler_step at 0x7ff048cbd2f0> h=0.1\" :\"Euler, h=0.1\"})\n",
    "b = book_table[1].rename(columns = {\"<function Heun_step at 0x7ff048c8db70> h=0.1\" :\"Heun, h=0.1\"})\n",
    "c = book_table[2].rename(columns = {\"<function RungeKutta_step at 0x7ff04d059158> h=0.1\" :\"RK, h=0.1\"})\n",
    "d = book_table[3].rename(columns = {\"<function AdamsBashforth2_step at 0x7ff04b221ea0> h=0.1\" :\"AB, h=0.1\"})\n",
    "def exact():\n",
    "    return  DataFrame(data = [((1/4*x)-(3/16)+(19/16*np.exp(4*x))) for x in timesteps(0,2,0.1)], index = np.round(timesteps(0,2,0.1), 3), columns = [\"Exact\"])\n",
    "e = exact()\n",
    "\n",
    "    \n",
    "final = a.join(b.join(c.join(d.join(e))))\n",
    "final.iloc[[0,1,2,3,4,5,6,7,8,9,10,15,20]]"
   ]
  },
  {
   "cell_type": "markdown",
   "metadata": {},
   "source": [
    "## 4. Solving further equations\n",
    "\n",
    "<div class=\"alert alert-info\">\n",
    "    <h3>Exercise 4.1</h3>\n",
    "\n",
    "Use the same approach to produce a table and a plot of the different numerical solutions to the following initial value problems:\n",
    "\n",
    "**(a)** $y'=2t+e^{-ty}$, $y(0)=1$,\n",
    "\n",
    "**(b)** $y'=(t^2-y^2)\\sin y$, $y(0)=-1$.\n",
    "\n",
    "Note: these appear as questions in Chapter 8 of Boyce & DiPrima, so if you use $h=0.05$ you can check your results against the solutions in the book. They are questions 4 and 6 in sections 8.1, 8.2 and 8.3 of Boyce & DiPrima.\n",
    "\n",
    "</div>\n",
    "\n",
    "Hint: remember you can use SymPy to find exact solutions to compare against, as in Lab 1. However, you will notice here that the exact solutions are not very helpful!\n"
   ]
  },
  {
   "cell_type": "code",
   "execution_count": null,
   "metadata": {},
   "outputs": [],
   "source": []
  },
  {
   "cell_type": "markdown",
   "metadata": {},
   "source": [
    "<div class=\"alert alert-info\">\n",
    "    <h3>Exercise 4.2</h3>\n",
    "\n",
    "Solve Problem 6 in section 8.5 of Boyce & DiPrima (p481):\n",
    "\n",
    "$$ x'=\\exp(-x+y)-\\cos x, \\quad y'=\\sin(x-3y); \\quad x(0)=1, y(0)=2 $$\n",
    "\n",
    "finding the approximate solutions at $t=0.2, 0.4, 0.6, 0.8, 1.0$ using:\n",
    "\n",
    "**(a)** the Euler method with $h=0.1$\n",
    "\n",
    "**(b)** Runge-Kutta with $h=0.2$\n",
    "\n",
    "**(c)** Runge-Kutta with $h=0.1$\n",
    "\n",
    "</div>"
   ]
  },
  {
   "cell_type": "code",
   "execution_count": null,
   "metadata": {},
   "outputs": [],
   "source": []
  }
 ],
 "metadata": {
  "kernelspec": {
   "display_name": "Python 3",
   "language": "python",
   "name": "python3"
  },
  "language_info": {
   "codemirror_mode": {
    "name": "ipython",
    "version": 3
   },
   "file_extension": ".py",
   "mimetype": "text/x-python",
   "name": "python",
   "nbconvert_exporter": "python",
   "pygments_lexer": "ipython3",
   "version": "3.7.3"
  }
 },
 "nbformat": 4,
 "nbformat_minor": 2
}
