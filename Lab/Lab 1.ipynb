{
 "cells": [
  {
   "cell_type": "markdown",
   "metadata": {},
   "source": [
    "# Lab 1: Python and differential equations\n",
    "\n",
    "In this notebook we will use Python to solve some differential equations, and to visualise the solutions. We will build on this work in later labs to do more sophisticated analyses, and to consider more complicated differential equations.\n",
    "\n",
    "For now, we will see how to use Python in 4 ways:\n",
    "\n",
    "|                Method of solution: | Symbolic | Numerical |\n",
    "|-----------------------------------:|----------|-----------|\n",
    "| First order ODEs                   |    §1    |     §3    |\n",
    "| Systems of first order ODEs        |    §2    |     §4    |\n",
    "\n",
    "### How to use this notebook\n",
    "The notebook is made up of various \"cells\" which either contain Python code or formatted text.\n",
    "\n",
    "To execute the code blocks, click on them and press <kbd>>| Run</kbd> on the toolbar above, or type <kbd>Shift</kbd>+<kbd>Enter</kbd>.\n",
    "\n",
    "[Further help on editing notebooks](https://nbviewer.jupyter.org/github/jupyter/notebook/blob/master/docs/source/examples/Notebook/Notebook%20Basics.ipynb#Overview-of-the-Notebook-UI)"
   ]
  },
  {
   "cell_type": "markdown",
   "metadata": {},
   "source": [
    "# 1. Symbolic solution of ODEs"
   ]
  },
  {
   "cell_type": "markdown",
   "metadata": {},
   "source": [
    "We can use Python to find the exact symbolic solution to ODEs that we might otherwise solve by hand.\n",
    "\n",
    "To show this in action, we will solve a simple example from the textbook, of a first-order linear ODE. The following is Example 3 on p35 of Boyce and DiPrima (10th Edition).\n",
    "\n",
    "***\n",
    "### Example\n",
    "Find the general solution of the first-order differential equation $$\\frac{dy}{dt}-2y=4-t$$ and plot the graphs of several solutions.\n",
    "***"
   ]
  },
  {
   "cell_type": "markdown",
   "metadata": {},
   "source": [
    "We will use the [SymPy package](https://www.sympy.org/en/index.html) to do the calculations. The first step is to solve the equation -- we do that in the following block of code. Read the code carefully and see if you can make sense of it, then see below for a detailed walk through the code."
   ]
  },
  {
   "cell_type": "code",
   "execution_count": 2,
   "metadata": {},
   "outputs": [
    {
     "name": "stdout",
     "output_type": "stream",
     "text": [
      "The equation\n",
      "Eq(-2*y(t) + Derivative(y(t), t), 4 - t)\n"
     ]
    },
    {
     "data": {
      "text/latex": [
       "$\\displaystyle - 2 y{\\left(t \\right)} + \\frac{d}{d t} y{\\left(t \\right)} = 4 - t$"
      ]
     },
     "metadata": {},
     "output_type": "display_data"
    },
    {
     "name": "stdout",
     "output_type": "stream",
     "text": [
      "has solutions\n"
     ]
    },
    {
     "data": {
      "text/latex": [
       "$\\displaystyle y{\\left(t \\right)} = \\left(C_{1} + \\frac{\\left(2 t - 7\\right) e^{- 2 t}}{4}\\right) e^{2 t}$"
      ]
     },
     "metadata": {},
     "output_type": "display_data"
    },
    {
     "name": "stdout",
     "output_type": "stream",
     "text": [
      "or equivalently\n"
     ]
    },
    {
     "data": {
      "text/latex": [
       "$\\displaystyle y{\\left(t \\right)} = C_{1} e^{2 t} + \\frac{t}{2} - \\frac{7}{4}$"
      ]
     },
     "metadata": {},
     "output_type": "display_data"
    }
   ],
   "source": [
    "import sympy as sym\n",
    "sym.init_printing()\n",
    "from IPython.display import display_latex\n",
    "\n",
    "# Define the equation\n",
    "t = sym.symbols('t')\n",
    "y = sym.Function('y')\n",
    "eq1 = sym.Eq(y(t).diff(t)-2*y(t), 4-t)\n",
    "print(\"The equation\")\n",
    "print(eq1)\n",
    "display_latex(eq1)\n",
    "\n",
    "# Solve the equation\n",
    "eq1sol = sym.dsolve(eq1, y(t))\n",
    "print(\"has solutions\")\n",
    "display_latex(eq1sol)\n",
    "print(\"or equivalently\")\n",
    "display_latex(sym.simplify(eq1sol))"
   ]
  },
  {
   "cell_type": "markdown",
   "metadata": {},
   "source": [
    "#### Detailed explanation\n",
    "\n",
    "First, we load up the package and adjust some settings so that the output prints nicely (e.g. like $x^2$ rather than `x ** 2`):"
   ]
  },
  {
   "cell_type": "code",
   "execution_count": 2,
   "metadata": {},
   "outputs": [],
   "source": [
    "import sympy as sym\n",
    "sym.init_printing()\n",
    "from IPython.display import display_latex"
   ]
  },
  {
   "cell_type": "markdown",
   "metadata": {},
   "source": [
    "Now that we have imported the SymPy package, we can make use of its functions to do things. An example of that was `sym.init_printing()` which called the [init_printing](https://docs.sympy.org/latest/tutorial/printing.html) function to set up the way output is printed.\n",
    "\n",
    "Conveniently, SymPy has the function [dsolve](https://docs.sympy.org/latest/modules/solvers/ode.html) which can be used to solve ODEs -- but first, we need to set up the ODE as an object that SymPy can understand."
   ]
  },
  {
   "cell_type": "code",
   "execution_count": 3,
   "metadata": {},
   "outputs": [
    {
     "data": {
      "image/png": "[encoded data removed]",
      "text/latex": [
       "$\\displaystyle - 2 y{\\left(t \\right)} + \\frac{d}{d t} y{\\left(t \\right)} = 4 - t$"
      ],
      "text/plain": [
       "          d               \n",
       "-2⋅y(t) + ──(y(t)) = 4 - t\n",
       "          dt              "
      ]
     },
     "execution_count": 3,
     "metadata": {},
     "output_type": "execute_result"
    }
   ],
   "source": [
    "t = sym.symbols('t')\n",
    "y = sym.Function('y')\n",
    "eq1 = sym.Eq(y(t).diff(t)-2*y(t), 4-t)\n",
    "eq1"
   ]
  },
  {
   "cell_type": "markdown",
   "metadata": {},
   "source": [
    "There are some important things going on here:\n",
    "\n",
    "* to use variables like $x$, $y$ and $t$ with SymPy, you need to first define these as symbols (for variables like $t$) or Functions (like $y$ here, which is a function of $t$).\n",
    "\n",
    "* to write the equation, we use `sym.Eq(A,B)` to stand for $A=B$.\n",
    "\n",
    "* the derivative $\\frac{dy}{dt}$ is expressed as `y(t).diff(t)`, which you can think of as saying \"take `y(t)` and then `diff`erentiate with respect to `t`\". This is actually just a shorter way of using SymPy's `diff` function -- either way works:"
   ]
  },
  {
   "cell_type": "code",
   "execution_count": 4,
   "metadata": {},
   "outputs": [
    {
     "data": {
      "text/plain": [
       "True"
      ]
     },
     "execution_count": 4,
     "metadata": {},
     "output_type": "execute_result"
    }
   ],
   "source": [
    "y(t).diff(t) == sym.diff(y(t), t)"
   ]
  },
  {
   "cell_type": "markdown",
   "metadata": {},
   "source": [
    "We're now ready to use `dsolve`:"
   ]
  },
  {
   "cell_type": "code",
   "execution_count": 5,
   "metadata": {},
   "outputs": [
    {
     "data": {
      "image/png": "[encoded data removed]",
      "text/latex": [
       "$\\displaystyle y{\\left(t \\right)} = \\left(C_{1} + \\frac{\\left(2 t - 7\\right) e^{- 2 t}}{4}\\right) e^{2 t}$"
      ],
      "text/plain": [
       "       ⎛                -2⋅t⎞     \n",
       "       ⎜     (2⋅t - 7)⋅ℯ    ⎟  2⋅t\n",
       "y(t) = ⎜C₁ + ───────────────⎟⋅ℯ   \n",
       "       ⎝            4       ⎠     "
      ]
     },
     "execution_count": 5,
     "metadata": {},
     "output_type": "execute_result"
    }
   ],
   "source": [
    "eq1sol = sym.dsolve(eq1, y(t))\n",
    "eq1sol"
   ]
  },
  {
   "cell_type": "markdown",
   "metadata": {},
   "source": [
    "This does not quite look like the solution shown in Boyce & DiPrima, but that's only because the solution has been factorised in a strange way. We can use SymPy's [simplify](https://docs.sympy.org/latest/tutorial/simplification.html) function to sort this out:"
   ]
  },
  {
   "cell_type": "code",
   "execution_count": 6,
   "metadata": {},
   "outputs": [
    {
     "data": {
      "image/png": "[encoded data removed]",
      "text/latex": [
       "$\\displaystyle y{\\left(t \\right)} = C_{1} e^{2 t} + \\frac{t}{2} - \\frac{7}{4}$"
      ],
      "text/plain": [
       "           2⋅t   t   7\n",
       "y(t) = C₁⋅ℯ    + ─ - ─\n",
       "                 2   4"
      ]
     },
     "execution_count": 6,
     "metadata": {},
     "output_type": "execute_result"
    }
   ],
   "source": [
    "sym.simplify(eq1sol)"
   ]
  },
  {
   "cell_type": "markdown",
   "metadata": {},
   "source": [
    "This looks more like it.\n",
    "\n",
    "### Plotting solutions\n",
    "\n",
    "Now, we plot one possible solution, with the initial condition $y(0)=0$:"
   ]
  },
  {
   "cell_type": "code",
   "execution_count": 7,
   "metadata": {},
   "outputs": [
    {
     "data": {
      "text/latex": [
       "$\\displaystyle y{\\left(t \\right)} = \\frac{t}{2} + \\frac{7 e^{2 t}}{4} - \\frac{7}{4}$"
      ]
     },
     "metadata": {},
     "output_type": "display_data"
    },
    {
     "data": {
      "text/plain": [
       "<Figure size 640x480 with 1 Axes>"
      ]
     },
     "metadata": {},
     "output_type": "display_data"
    },
    {
     "data": {
      "text/plain": [
       "<sympy.plotting.plot.Plot at 0x7f24d4fd8ef0>"
      ]
     },
     "execution_count": 7,
     "metadata": {},
     "output_type": "execute_result"
    }
   ],
   "source": [
    "import sympy.plotting as sym_plot\n",
    "eq1sol0 = sym.dsolve(eq1, y(t), ics={y(0):0})\n",
    "display_latex(sym.simplify(eq1sol0))\n",
    "sym_plot.plot(eq1sol0.rhs, (t,0,2), xlabel = 't', ylabel = 'y')"
   ]
  },
  {
   "cell_type": "markdown",
   "metadata": {},
   "source": [
    "<span class=\"label label-danger\">Task</span>\n",
    "Copy the plotting code into the box below, and modify it to produce a plot of the solution with $y(0)=-1$."
   ]
  },
  {
   "cell_type": "code",
   "execution_count": 14,
   "metadata": {},
   "outputs": [
    {
     "data": {
      "text/latex": [
       "$\\displaystyle y{\\left(t \\right)} = \\frac{t}{2} + \\frac{3 e^{2 t}}{4} - \\frac{7}{4}$"
      ]
     },
     "metadata": {},
     "output_type": "display_data"
    },
    {
     "data": {
      "image/png": "[encoded data removed]",
      "text/plain": [
       "<Figure size 432x288 with 1 Axes>"
      ]
     },
     "metadata": {
      "needs_background": "light"
     },
     "output_type": "display_data"
    },
    {
     "name": "stdout",
     "output_type": "stream",
     "text": [
      "((2*t - 7)*exp(-2*t)/4 + 3/4)*exp(2*t)\n",
      "Eq(y(t), ((2*t - 7)*exp(-2*t)/4 + 3/4)*exp(2*t))\n"
     ]
    }
   ],
   "source": [
    "import sympy.plotting as sym_plot\n",
    "eq1sol0 = sym.dsolve(eq1, y(t), ics={y(0):-1})\n",
    "display_latex(sym.simplify(eq1sol0))\n",
    "sym_plot.plot(eq1sol0.rhs, (t,0,2), xlabel = 't', ylabel = 'y')\n",
    "print(eq1sol0.rhs)\n",
    "print(eq1sol0)"
   ]
  },
  {
   "cell_type": "markdown",
   "metadata": {},
   "source": [
    "To plot several solutions, we need to pick different choices of initial condition."
   ]
  },
  {
   "cell_type": "code",
   "execution_count": 15,
   "metadata": {},
   "outputs": [
    {
     "data": {
      "image/png": "[encoded data removed]",
      "text/plain": [
       "<Figure size 432x288 with 1 Axes>"
      ]
     },
     "metadata": {
      "needs_background": "light"
     },
     "output_type": "display_data"
    },
    {
     "data": {
      "text/plain": [
       "<sympy.plotting.plot.Plot at 0x7f24d439c588>"
      ]
     },
     "execution_count": 15,
     "metadata": {},
     "output_type": "execute_result"
    }
   ],
   "source": [
    "eq1sol1 = sym.dsolve(eq1, y(t), ics={y(0):-1})\n",
    "eq1sol2 = sym.dsolve(eq1, y(t), ics={y(0):-2})\n",
    "eq1sol3 = sym.dsolve(eq1, y(t), ics={y(0):-3})\n",
    "\n",
    "sym_plot.plot(eq1sol0.rhs, eq1sol1.rhs, eq1sol2.rhs, eq1sol3.rhs, (t,0,2), xlabel = 't', ylabel = 'y')"
   ]
  },
  {
   "attachments": {
    "image.png": {
     "image/png": "[encoded data removed]"
    }
   },
   "cell_type": "markdown",
   "metadata": {},
   "source": [
    "<span class=\"label label-danger\">Task</span>\n",
    "\n",
    "**(a)** Change the plotting region to $0\\leq t\\leq1$ to get a better look at the behaviour near $t=0$.\n",
    "\n",
    "**(b)** Add the optional argument `legend = True` to the `plot` function to show which curves are being plotted.\n",
    "\n",
    "**(c)** (Challenge) See if you can find how to give each curve a different colour, something like this:\n",
    "\n",
    "![image.png](attachment:image.png)"
   ]
  },
  {
   "cell_type": "code",
   "execution_count": 41,
   "metadata": {},
   "outputs": [
    {
     "data": {
      "image/png": "[encoded data removed]",
      "text/plain": [
       "<Figure size 432x288 with 1 Axes>"
      ]
     },
     "metadata": {
      "needs_background": "light"
     },
     "output_type": "display_data"
    }
   ],
   "source": [
    "eq1sol0 = sym.dsolve(eq1, y(t), ics={y(0):0})\n",
    "eq1sol1 = sym.dsolve(eq1, y(t), ics={y(0):-1})\n",
    "eq1sol2 = sym.dsolve(eq1, y(t), ics={y(0):-2})\n",
    "eq1sol3 = sym.dsolve(eq1, y(t), ics={y(0):-3})\n",
    "\n",
    "\n",
    "a = sym_plot.plot(eq1sol0.rhs, eq1sol1.rhs, eq1sol2.rhs, eq1sol3.rhs, (t,0,1), xlabel = 't', ylabel = 'y', legend = True, show=False)\n",
    "a[0].line_color = \"black\"\n",
    "a[1].line_color = \"red\"\n",
    "a[2].line_color = \"green\"\n",
    "a[3].line_color = \"blue\"\n",
    "a.show()\n"
   ]
  },
  {
   "cell_type": "markdown",
   "metadata": {},
   "source": [
    "<div class=\"alert alert-info\">\n",
    "    <h3>Exercise 1.1</h3>\n",
    "    <p>Solve the ODEs in Q1 of the Refresher problems worksheet, and plot the solutions over sensible ranges.</p>\n",
    "\n",
    "**(a)** $y'=(3x^2-e^x)/(2y-4)$, $y(0)=1$,\n",
    "\n",
    "**(b)** $y'= 4(1+x)(1+y^2)$, $y(0)=0$,\n",
    "\n",
    "**(c)** $y'= y(1-y)$, $y(0)=1/2$.\n",
    "\n",
    "</div>\n",
    "\n",
    "_Hints: For (a) you will need to use the line `from sympy import exp` to make the `exp` function available, and for (b) you may find it helpful to set the `ylim` of the plot._"
   ]
  },
  {
   "cell_type": "code",
   "execution_count": 5,
   "metadata": {},
   "outputs": [],
   "source": [
    "# Standard setup\n",
    "import sympy as sym\n",
    "sym.init_printing()\n",
    "from IPython.display import display_latex\n",
    "import sympy.plotting as sym_plot"
   ]
  },
  {
   "cell_type": "code",
   "execution_count": 66,
   "metadata": {},
   "outputs": [
    {
     "data": {
      "text/latex": [
       "$\\displaystyle \\frac{d}{d x} y{\\left(x \\right)} = \\frac{3 x^{2} - e^{x}}{2 y{\\left(x \\right)} - 4}$"
      ]
     },
     "metadata": {},
     "output_type": "display_data"
    },
    {
     "data": {
      "text/latex": [
       "$\\displaystyle y{\\left(x \\right)} = 2 - \\sqrt{x^{3} - e^{x} + 2}$"
      ]
     },
     "metadata": {},
     "output_type": "display_data"
    },
    {
     "data": {
      "text/latex": [
       "$\\displaystyle y{\\left(x \\right)} = 2 - \\sqrt{x^{3} - e^{x} + 2}$"
      ]
     },
     "metadata": {},
     "output_type": "display_data"
    },
    {
     "name": "stdout",
     "output_type": "stream",
     "text": [
      "2 - sqrt(x**3 - exp(x) + 2)\n"
     ]
    },
    {
     "data": {
      "image/png": "[encoded data removed]",
      "text/plain": [
       "<Figure size 432x288 with 1 Axes>"
      ]
     },
     "metadata": {
      "needs_background": "light"
     },
     "output_type": "display_data"
    }
   ],
   "source": [
    "# (a)\n",
    "from sympy import exp\n",
    "\n",
    "y = sym.Function('y')\n",
    "x = sym.symbols('x')\n",
    "\n",
    "eq1 = sym.Eq(y(x).diff(x),(3*x**2-exp(x))/(2*y(x)-4))\n",
    "display_latex(eq1)\n",
    "\n",
    "eq1solve = sym.dsolve(eq1, y(x), ics={y(0):1})\n",
    "display_latex(eq1solve)\n",
    "display_latex(sym.simplify(eq1solve))\n",
    "\n",
    "print(eq1solve.rhs)\n",
    "\n",
    "a = sym_plot.plot(eq1solve.rhs, (x,0,5), xlabel = 'x', ylabel = 'y', legend = False, show=False)\n",
    "a.show()"
   ]
  },
  {
   "cell_type": "code",
   "execution_count": 70,
   "metadata": {},
   "outputs": [
    {
     "data": {
      "text/latex": [
       "$\\displaystyle \\frac{d}{d x} y{\\left(x \\right)} = \\left(4 x + 4\\right) \\left(y^{2}{\\left(x \\right)} + 1\\right)$"
      ]
     },
     "metadata": {},
     "output_type": "display_data"
    },
    {
     "data": {
      "text/latex": [
       "$\\displaystyle y{\\left(x \\right)} = \\tan{\\left(2 x^{2} + 4 x \\right)}$"
      ]
     },
     "metadata": {},
     "output_type": "display_data"
    },
    {
     "data": {
      "text/latex": [
       "$\\displaystyle y{\\left(x \\right)} = \\tan{\\left(2 x \\left(x + 2\\right) \\right)}$"
      ]
     },
     "metadata": {},
     "output_type": "display_data"
    },
    {
     "name": "stdout",
     "output_type": "stream",
     "text": [
      "tan(2*x**2 + 4*x)\n"
     ]
    },
    {
     "data": {
      "image/png": "[encoded data removed]",
      "text/plain": [
       "<Figure size 432x288 with 1 Axes>"
      ]
     },
     "metadata": {
      "needs_background": "light"
     },
     "output_type": "display_data"
    }
   ],
   "source": [
    "# (b)\n",
    "y = sym.Function('y')\n",
    "x = sym.symbols('x')\n",
    "\n",
    "eq1 = sym.Eq(y(x).diff(x),4*(1+x)*(1+y(x)**2))\n",
    "display_latex(eq1)\n",
    "\n",
    "eq1solve = sym.dsolve(eq1, y(x), ics={y(0):0})\n",
    "display_latex(eq1solve)\n",
    "display_latex(sym.simplify(eq1solve))\n",
    "\n",
    "print(eq1solve.rhs)\n",
    "\n",
    "a = sym_plot.plot(eq1solve.rhs, (x,0,2), xlabel = 'x', ylabel = 'y', legend = False, show=False)\n",
    "a.show()\n"
   ]
  },
  {
   "cell_type": "code",
   "execution_count": 7,
   "metadata": {},
   "outputs": [
    {
     "data": {
      "text/latex": [
       "$\\displaystyle \\frac{d}{d x} y{\\left(x \\right)} = \\left(1 - y{\\left(x \\right)}\\right) y{\\left(x \\right)}$"
      ]
     },
     "metadata": {},
     "output_type": "display_data"
    },
    {
     "data": {
      "text/latex": [
       "$\\displaystyle y{\\left(x \\right)} = \\frac{1}{1 + 1.0 e^{- x}}$"
      ]
     },
     "metadata": {},
     "output_type": "display_data"
    },
    {
     "data": {
      "text/latex": [
       "$\\displaystyle y{\\left(x \\right)} = \\frac{e^{x}}{e^{x} + 1.0}$"
      ]
     },
     "metadata": {},
     "output_type": "display_data"
    },
    {
     "name": "stdout",
     "output_type": "stream",
     "text": [
      "1/(1 + 1.0*exp(-x))\n"
     ]
    },
    {
     "data": {
      "image/png": "[encoded data removed]",
      "text/plain": [
       "<Figure size 432x288 with 1 Axes>"
      ]
     },
     "metadata": {
      "needs_background": "light"
     },
     "output_type": "display_data"
    }
   ],
   "source": [
    "# (c)\n",
    "y = sym.Function('y')\n",
    "x = sym.symbols('x')\n",
    "\n",
    "eq1 = sym.Eq(y(x).diff(x),y(x)*(1-y(x)))\n",
    "display_latex(eq1)\n",
    "\n",
    "eq1solve = sym.dsolve(eq1, y(x), ics={y(0):1/2})\n",
    "display_latex(eq1solve)\n",
    "display_latex(sym.simplify(eq1solve))\n",
    "\n",
    "print(eq1solve.rhs)\n",
    "\n",
    "a = sym_plot.plot(eq1solve.rhs, (x,0,10), xlabel = 'x', ylabel = 'y', legend = False, show=False)\n",
    "a.show()\n",
    "\n"
   ]
  },
  {
   "cell_type": "markdown",
   "metadata": {},
   "source": [
    "# 2. Symbolic solution of systems\n",
    "\n",
    "\n"
   ]
  },
  {
   "cell_type": "markdown",
   "metadata": {},
   "source": [
    "We would also like to be able to solve systems of equations, for instance $$\\mathbf{x}'=\\begin{pmatrix}1 & 1\\\\ 4 & 1\\end{pmatrix}\\mathbf{x},$$\n",
    "which appears as Example 2 in §7.5 of Boyce & DiPrima.\n",
    "\n",
    "SymPy can handle this with just a simple modification of the code we've been using so far, if we rewrite the matrix equation as two equations in $x_1(t)$ and $x_2(t)$, where $\\mathbf{x}(t)=\\begin{pmatrix}x_1(t) \\\\ x_2(t)\\end{pmatrix}$."
   ]
  },
  {
   "cell_type": "code",
   "execution_count": 8,
   "metadata": {},
   "outputs": [
    {
     "name": "stdout",
     "output_type": "stream",
     "text": [
      "The system\n"
     ]
    },
    {
     "data": {
      "text/latex": [
       "$\\displaystyle \\left[ \\frac{d}{d t} \\operatorname{x_{1}}{\\left(t \\right)} = \\operatorname{x_{1}}{\\left(t \\right)} + \\operatorname{x_{2}}{\\left(t \\right)}, \\  \\frac{d}{d t} \\operatorname{x_{2}}{\\left(t \\right)} = 4 \\operatorname{x_{1}}{\\left(t \\right)} + \\operatorname{x_{2}}{\\left(t \\right)}\\right]$"
      ]
     },
     "metadata": {},
     "output_type": "display_data"
    },
    {
     "name": "stdout",
     "output_type": "stream",
     "text": [
      "has solution\n"
     ]
    },
    {
     "data": {
      "text/latex": [
       "$\\displaystyle \\left[ \\operatorname{x_{1}}{\\left(t \\right)} = C_{1} e^{3 t} + C_{2} e^{- t}, \\  \\operatorname{x_{2}}{\\left(t \\right)} = 2 C_{1} e^{3 t} - 2 C_{2} e^{- t}\\right]$"
      ]
     },
     "metadata": {},
     "output_type": "display_data"
    }
   ],
   "source": [
    "t = sym.symbols('t')\n",
    "x1 = sym.Function('x1')\n",
    "x2 = sym.Function('x2')\n",
    "system = [sym.Eq(x1(t).diff(t), x1(t)+x2(t)),\n",
    "          sym.Eq(x2(t).diff(t), 4*x1(t)+x2(t))]\n",
    "print(\"The system\")\n",
    "display_latex(system)\n",
    "system_sol = sym.dsolve(system)\n",
    "print(\"has solution\")\n",
    "display_latex(system_sol)"
   ]
  },
  {
   "cell_type": "markdown",
   "metadata": {},
   "source": [
    "<span class=\"label label-danger\">Task</span>\n",
    "Check that this agrees with the solution given in the book: $$\\mathbf{x}=c_1\\begin{pmatrix}1\\\\2\\end{pmatrix}e^{3t}+c_2\\begin{pmatrix}1\\\\-2\\end{pmatrix}e^{-t}$$"
   ]
  },
  {
   "cell_type": "markdown",
   "metadata": {},
   "source": [
    "It's also worth noting that SymPy can give us the eigenvalues and eigenvectors for the matrix, which gives another way to find the solution of the system:"
   ]
  },
  {
   "cell_type": "code",
   "execution_count": 9,
   "metadata": {},
   "outputs": [
    {
     "data": {
      "text/latex": [
       "$\\displaystyle \\left[ \\left( -1, \\  1, \\  \\left[ \\left[\\begin{matrix}- \\frac{1}{2}\\\\1\\end{matrix}\\right]\\right]\\right), \\  \\left( 3, \\  1, \\  \\left[ \\left[\\begin{matrix}\\frac{1}{2}\\\\1\\end{matrix}\\right]\\right]\\right)\\right]$"
      ],
      "text/plain": [
       "⎡⎛       ⎡⎡-1/2⎤⎤⎞  ⎛      ⎡⎡1/2⎤⎤⎞⎤\n",
       "⎢⎜-1, 1, ⎢⎢    ⎥⎥⎟, ⎜3, 1, ⎢⎢   ⎥⎥⎟⎥\n",
       "⎣⎝       ⎣⎣ 1  ⎦⎦⎠  ⎝      ⎣⎣ 1 ⎦⎦⎠⎦"
      ]
     },
     "execution_count": 9,
     "metadata": {},
     "output_type": "execute_result"
    }
   ],
   "source": [
    "M = sym.Matrix([[1,1],[4,1]])\n",
    "M.eigenvects()"
   ]
  },
  {
   "cell_type": "markdown",
   "metadata": {},
   "source": [
    "<span class=\"label label-danger\">Task</span>\n",
    "What does this output tell us? (You may want to [check the documentation on eigenvects()](https://docs.sympy.org/latest/tutorial/matrices.html#eigenvalues-eigenvectors-and-diagonalization)) How does this relate to the solution given in the book?"
   ]
  },
  {
   "cell_type": "code",
   "execution_count": null,
   "metadata": {},
   "outputs": [],
   "source": [
    "(eigenvalue:algebraic multiplicity, [eigenvectors])"
   ]
  },
  {
   "cell_type": "markdown",
   "metadata": {},
   "source": [
    "To make it easier to solve 2x2 systems like this, we can define a **function** that will take in a matrix defining the system, and give us back the corresponding system of equations."
   ]
  },
  {
   "cell_type": "code",
   "execution_count": 10,
   "metadata": {},
   "outputs": [
    {
     "data": {
      "image/png": "[encoded data removed]",
      "text/latex": [
       "$\\displaystyle \\left[ \\operatorname{x_{1}}{\\left(t \\right)} = C_{1} e^{3 t} + C_{2} e^{- t}, \\  \\operatorname{x_{2}}{\\left(t \\right)} = 2 C_{1} e^{3 t} - 2 C_{2} e^{- t}\\right]$"
      ],
      "text/plain": [
       "⎡            3⋅t       -t                3⋅t         -t⎤\n",
       "⎣x₁(t) = C₁⋅ℯ    + C₂⋅ℯ  , x₂(t) = 2⋅C₁⋅ℯ    - 2⋅C₂⋅ℯ  ⎦"
      ]
     },
     "execution_count": 10,
     "metadata": {},
     "output_type": "execute_result"
    }
   ],
   "source": [
    "#\n",
    "# Produce a function that takes in a 2x2 matrix,\n",
    "# and returns the system of ODEs\n",
    "#\n",
    "def lin_system(M):\n",
    "    '''\n",
    "    Given a 2x2 SymPy Matrix, return the corresponding system of equations\n",
    "    '''\n",
    "    t = sym.symbols('t')\n",
    "    x1 = sym.Function('x1')\n",
    "    x2 = sym.Function('x2')\n",
    "    system = [sym.Eq(x1(t).diff(t), M[0,0]*x1(t)+M[0,1]*x2(t)),\n",
    "            sym.Eq(x2(t).diff(t),M[1,0]*x1(t)+M[1,1]*x2(t))]\n",
    "    return(system)\n",
    "\n",
    "sym.dsolve(lin_system(sym.Matrix([[1,1],[4,1]])))"
   ]
  },
  {
   "cell_type": "markdown",
   "metadata": {},
   "source": [
    "This gives the same result as above, as expected.\n",
    "\n",
    "Let's now use this method to investigate the systems in the week 2 Workshop sheet."
   ]
  },
  {
   "cell_type": "code",
   "execution_count": 11,
   "metadata": {},
   "outputs": [
    {
     "data": {
      "image/png": "[encoded data removed]",
      "text/latex": [
       "$\\displaystyle \\left[ \\operatorname{x_{1}}{\\left(t \\right)} = - C_{1} e^{t} - C_{2} e^{- t}, \\  \\operatorname{x_{2}}{\\left(t \\right)} = - C_{1} e^{t} - 3 C_{2} e^{- t}\\right]$"
      ],
      "text/plain": [
       "⎡              t       -t                t         -t⎤\n",
       "⎣x₁(t) = - C₁⋅ℯ  - C₂⋅ℯ  , x₂(t) = - C₁⋅ℯ  - 3⋅C₂⋅ℯ  ⎦"
      ]
     },
     "execution_count": 11,
     "metadata": {},
     "output_type": "execute_result"
    }
   ],
   "source": [
    "# 2(a)(i)\n",
    "sym.dsolve(lin_system(sym.Matrix([[2,-1],[3,-2]])))"
   ]
  },
  {
   "cell_type": "markdown",
   "metadata": {},
   "source": [
    "<span class=\"label label-danger\">Task</span> Does this agree with what you found in the workshop?\n",
    "\n",
    "### Plotting solutions\n",
    "\n",
    "We can also use SymPy to plot particular solutions. Here, we specifcy some initial conditions and use the [plot_parametric](https://docs.sympy.org/latest/modules/plotting.html#sympy.plotting.plot.plot_parametric) function to plot the resulting solution for $-2\\leq t\\leq2$."
   ]
  },
  {
   "cell_type": "code",
   "execution_count": 13,
   "metadata": {},
   "outputs": [
    {
     "data": {
      "text/latex": [
       "$\\displaystyle \\left( - \\frac{e^{t}}{2} + \\frac{e^{- t}}{2}, \\  - \\frac{e^{t}}{2} + \\frac{3 e^{- t}}{2}\\right)$"
      ]
     },
     "metadata": {},
     "output_type": "display_data"
    },
    {
     "data": {
      "image/png": "[encoded data removed]",
      "text/plain": [
       "<Figure size 432x288 with 1 Axes>"
      ]
     },
     "metadata": {
      "needs_background": "light"
     },
     "output_type": "display_data"
    },
    {
     "name": "stdout",
     "output_type": "stream",
     "text": [
      "-exp(t)/2 + exp(-t)/2\n"
     ]
    }
   ],
   "source": [
    "sol_2ai = sym.dsolve(lin_system(sym.Matrix([[2,-1],[3,-2]])),\n",
    "                     ics={x1(0):0, x2(0):1})\n",
    "display_latex((sol_2ai[0].rhs, sol_2ai[1].rhs))\n",
    "import sympy.plotting as sym_plot\n",
    "sym_plot.plot_parametric(sol_2ai[0].rhs, sol_2ai[1].rhs, (t,-2,2))\n",
    "print(sol_2ai[0].rhs)"
   ]
  },
  {
   "cell_type": "markdown",
   "metadata": {},
   "source": [
    "<span class=\"label label-danger\">Task</span> Try adjusting the code above so that the solution is plotted over different ranges of $t$. Can you explain what you see, based on the form of the solution?"
   ]
  },
  {
   "cell_type": "markdown",
   "metadata": {},
   "source": [
    "<div class=\"alert alert-info\">\n",
    "    <h3>Exercise 2.1</h3>\n",
    "    <p>The goal of this exercise is to solve some linear systems. But to do that efficiently, we will first create a function.</p>\n",
    "    <p><span class=\"label label-primary\">a</span> Complete the definition below of the function <code>solve_lin_system</code>. This function should take three arguments - a 2x2 matrix for a linear system, a list specifying initial conditions, and a time range. It should display the general solution, the particular solution, and a plot of the particular solution over the given time range.</p><p>For instance, <code>solve_lin_system(sym.Matrix([[2,-1],[3,-2]]), [0,1], [-2,2])</code> should replicate the results above and produce output like the following:</p>\n",
    "    <p><img src=\"http://www.maths.ed.ac.uk/gkinnear/img/lin_system.png\" width=\"300px\"/></p> \n",
    "    <p><span class=\"label label-primary\">b</span> Use the <code>solve_lin_system</code> function to solve these other systems from Workshop 2, Q2(a):</p>\n",
    "\n",
    "**ii.** $\\mathbf{x}'=\\begin{pmatrix}-2 & 1\\\\ 1 & -2\\end{pmatrix}\\mathbf{x}$,\n",
    "\n",
    "**iii.** $\\mathbf{x}'=\\begin{pmatrix}4 & -3\\\\ 8 & -6\\end{pmatrix}\\mathbf{x}$.\n",
    "\n",
    "   <p>Try different initial conditions and time ranges, and make sure the output makes sense to you.</p>\n",
    "</div>"
   ]
  },
  {
   "cell_type": "code",
   "execution_count": 54,
   "metadata": {},
   "outputs": [],
   "source": [
    "def solve_lin_system(M, ics, time_range):\n",
    "    \n",
    "    print(\"Linear system with matrix:\")\n",
    "    display_latex(M)\n",
    "    \n",
    "    print(\"General solution:\")\n",
    "    system_solution = sym.dsolve(lin_system(M))\n",
    "    display_latex(system_solution)\n",
    "    \n",
    "    print(\"Particular solution starting at [\" + str(ics[0]) + \",\" + str(ics[1]) + \"]:\")\n",
    "    \n",
    "    particular_solution = sym.dsolve(lin_system(M),ics={x1(0):ics[0], x2(0):ics[1]})\n",
    "    display_latex((particular_solution[0].rhs, particular_solution[1].rhs))\n",
    "    \n",
    "    import sympy.plotting as sym_plot\n",
    "    sym_plot.plot_parametric(sol_2ai[0].rhs, sol_2ai[1].rhs, (t,time_range[0],time_range[1]))\n",
    "    \n",
    "    "
   ]
  },
  {
   "cell_type": "code",
   "execution_count": 53,
   "metadata": {},
   "outputs": [
    {
     "name": "stdout",
     "output_type": "stream",
     "text": [
      "Linear system with matrix:\n"
     ]
    },
    {
     "data": {
      "text/latex": [
       "$\\displaystyle \\left[\\begin{matrix}-2 & 1\\\\1 & -2\\end{matrix}\\right]$"
      ]
     },
     "metadata": {},
     "output_type": "display_data"
    },
    {
     "name": "stdout",
     "output_type": "stream",
     "text": [
      "General solution:\n"
     ]
    },
    {
     "data": {
      "text/latex": [
       "$\\displaystyle \\left[ \\operatorname{x_{1}}{\\left(t \\right)} = C_{1} e^{- t} + C_{2} e^{- 3 t}, \\  \\operatorname{x_{2}}{\\left(t \\right)} = C_{1} e^{- t} - C_{2} e^{- 3 t}\\right]$"
      ]
     },
     "metadata": {},
     "output_type": "display_data"
    },
    {
     "name": "stdout",
     "output_type": "stream",
     "text": [
      "Particular solution starting at [0,1]:\n"
     ]
    },
    {
     "data": {
      "text/latex": [
       "$\\displaystyle \\left( \\frac{e^{- t}}{2} - \\frac{e^{- 3 t}}{2}, \\  \\frac{e^{- t}}{2} + \\frac{e^{- 3 t}}{2}\\right)$"
      ]
     },
     "metadata": {},
     "output_type": "display_data"
    },
    {
     "data": {
      "image/png": "[encoded data removed]",
      "text/plain": [
       "<Figure size 432x288 with 1 Axes>"
      ]
     },
     "metadata": {
      "needs_background": "light"
     },
     "output_type": "display_data"
    },
    {
     "name": "stdout",
     "output_type": "stream",
     "text": [
      "Linear system with matrix:\n"
     ]
    },
    {
     "data": {
      "text/latex": [
       "$\\displaystyle \\left[\\begin{matrix}4 & -3\\\\8 & -6\\end{matrix}\\right]$"
      ]
     },
     "metadata": {},
     "output_type": "display_data"
    },
    {
     "name": "stdout",
     "output_type": "stream",
     "text": [
      "General solution:\n"
     ]
    },
    {
     "data": {
      "text/latex": [
       "$\\displaystyle \\left[ \\operatorname{x_{1}}{\\left(t \\right)} = - 3 C_{1} - 3 C_{2} e^{- 2 t}, \\  \\operatorname{x_{2}}{\\left(t \\right)} = - 4 C_{1} - 6 C_{2} e^{- 2 t}\\right]$"
      ]
     },
     "metadata": {},
     "output_type": "display_data"
    },
    {
     "name": "stdout",
     "output_type": "stream",
     "text": [
      "Particular solution starting at [0,1]:\n"
     ]
    },
    {
     "data": {
      "text/latex": [
       "$\\displaystyle \\left( - \\frac{3}{2} + \\frac{3 e^{- 2 t}}{2}, \\  -2 + 3 e^{- 2 t}\\right)$"
      ]
     },
     "metadata": {},
     "output_type": "display_data"
    },
    {
     "data": {
      "image/png": "[encoded data removed]",
      "text/plain": [
       "<Figure size 432x288 with 1 Axes>"
      ]
     },
     "metadata": {
      "needs_background": "light"
     },
     "output_type": "display_data"
    }
   ],
   "source": [
    "solve_lin_system(sym.Matrix([[-2,1],[1,-2]]), [0,1], [-2,2])\n",
    "solve_lin_system(sym.Matrix([[4,-3],[8,-6]]), [0,1], [-2,2])"
   ]
  },
  {
   "cell_type": "markdown",
   "metadata": {},
   "source": [
    "### Challenge: simplifying complex expressions using `map`\n",
    "\n",
    "In Workshop 2, the final part of Q2(a) has a system with complex coefficients:\n",
    "\n",
    "$$\\mathbf{x}'=\\begin{pmatrix}2 & 2+i\\\\ -1 & -1-i\\end{pmatrix}\\mathbf{x}.$$\n",
    "\n",
    "To deal with complex numbers, we need to enter $i$ as `sym.I`. The solution provided by `sym.dsolve` looks surprisingly complicated!"
   ]
  },
  {
   "cell_type": "code",
   "execution_count": 49,
   "metadata": {},
   "outputs": [
    {
     "data": {
      "image/png": "[encoded data removed]",
      "text/latex": [
       "$\\displaystyle \\left[ \\operatorname{x_{1}}{\\left(t \\right)} = C_{1} \\left(2 + i\\right) e^{t \\left(\\frac{1}{2} - \\frac{i}{2} + \\frac{\\sqrt{-8 - 4 i + \\left(3 + i\\right)^{2}}}{2}\\right)} + C_{2} \\left(2 + i\\right) e^{t \\left(\\frac{1}{2} - \\frac{\\sqrt{-8 - 4 i + \\left(3 + i\\right)^{2}}}{2} - \\frac{i}{2}\\right)}, \\  \\operatorname{x_{2}}{\\left(t \\right)} = C_{1} \\left(- \\frac{3}{2} - \\frac{i}{2} + \\frac{\\sqrt{-8 - 4 i + \\left(3 + i\\right)^{2}}}{2}\\right) e^{t \\left(\\frac{1}{2} - \\frac{i}{2} + \\frac{\\sqrt{-8 - 4 i + \\left(3 + i\\right)^{2}}}{2}\\right)} + C_{2} \\left(- \\frac{3}{2} - \\frac{\\sqrt{-8 - 4 i + \\left(3 + i\\right)^{2}}}{2} - \\frac{i}{2}\\right) e^{t \\left(\\frac{1}{2} - \\frac{\\sqrt{-8 - 4 i + \\left(3 + i\\right)^{2}}}{2} - \\frac{i}{2}\\right)}\\right]$"
      ],
      "text/plain": [
       "⎡                      ⎛           _____________________⎞                 ⎛   \n",
       "⎢                      ⎜          ╱                   2 ⎟                 ⎜   \n",
       "⎢                      ⎜1   ⅈ   ╲╱  -8 - 4⋅ⅈ + (3 + ⅈ)  ⎟                 ⎜1  \n",
       "⎢                    t⋅⎜─ - ─ + ────────────────────────⎟               t⋅⎜─ -\n",
       "⎢                      ⎝2   2              2            ⎠                 ⎝2  \n",
       "⎢x₁(t) = C₁⋅(2 + ⅈ)⋅ℯ                                     + C₂⋅(2 + ⅈ)⋅ℯ      \n",
       "⎣                                                                             \n",
       "\n",
       "    _____________________    ⎞                                                \n",
       "   ╱                   2     ⎟                                                \n",
       " ╲╱  -8 - 4⋅ⅈ + (3 + ⅈ)     ⅈ⎟             ⎛             _____________________\n",
       " ──────────────────────── - ─⎟             ⎜            ╱                   2 \n",
       "            2               2⎠             ⎜  3   ⅈ   ╲╱  -8 - 4⋅ⅈ + (3 + ⅈ)  \n",
       "                              , x₂(t) = C₁⋅⎜- ─ - ─ + ────────────────────────\n",
       "                                           ⎝  2   2              2            \n",
       "\n",
       "     ⎛           _____________________⎞                                       \n",
       "     ⎜          ╱                   2 ⎟                                       \n",
       "⎞    ⎜1   ⅈ   ╲╱  -8 - 4⋅ⅈ + (3 + ⅈ)  ⎟      ⎛         _____________________  \n",
       "⎟  t⋅⎜─ - ─ + ────────────────────────⎟      ⎜        ╱                   2   \n",
       "⎟    ⎝2   2              2            ⎠      ⎜  3   ╲╱  -8 - 4⋅ⅈ + (3 + ⅈ)    \n",
       "⎟⋅ℯ                                     + C₂⋅⎜- ─ - ──────────────────────── -\n",
       "⎠                                            ⎝  2              2              \n",
       "\n",
       "       ⎛       _____________________    ⎞⎤\n",
       "       ⎜      ╱                   2     ⎟⎥\n",
       "  ⎞    ⎜1   ╲╱  -8 - 4⋅ⅈ + (3 + ⅈ)     ⅈ⎟⎥\n",
       "  ⎟  t⋅⎜─ - ──────────────────────── - ─⎟⎥\n",
       " ⅈ⎟    ⎝2              2               2⎠⎥\n",
       " ─⎟⋅ℯ                                    ⎥\n",
       " 2⎠                                      ⎦"
      ]
     },
     "execution_count": 49,
     "metadata": {},
     "output_type": "execute_result"
    }
   ],
   "source": [
    "M_2aiv = sym.Matrix([[2, 2+sym.I],[-1, -1-sym.I]])\n",
    "sym.dsolve(lin_system(M_2aiv))"
   ]
  },
  {
   "cell_type": "markdown",
   "metadata": {},
   "source": [
    "This is because there are expressions involving $i$ which need to be expanded and simplified. To see how to do that, notice that in this simpler example, the first entry of `exprs` is not automatically expanded and simplified:"
   ]
  },
  {
   "cell_type": "code",
   "execution_count": 50,
   "metadata": {},
   "outputs": [
    {
     "data": {
      "image/png": "[encoded data removed]",
      "text/latex": [
       "$\\displaystyle \\left[ \\left(3 + i\\right)^{2}, \\  i\\right]$"
      ],
      "text/plain": [
       "⎡       2   ⎤\n",
       "⎣(3 + ⅈ) , ⅈ⎦"
      ]
     },
     "execution_count": 50,
     "metadata": {},
     "output_type": "execute_result"
    }
   ],
   "source": [
    "exprs = [(sym.I+3)**2, sym.I]\n",
    "exprs"
   ]
  },
  {
   "cell_type": "markdown",
   "metadata": {},
   "source": [
    "We can use the `expand` function to get SymPy to expand out the brackets and simplify:"
   ]
  },
  {
   "cell_type": "code",
   "execution_count": 51,
   "metadata": {},
   "outputs": [
    {
     "data": {
      "image/png": "[encoded data removed]",
      "text/latex": [
       "$\\displaystyle 8 + 6 i$"
      ],
      "text/plain": [
       "8 + 6⋅ⅈ"
      ]
     },
     "execution_count": 51,
     "metadata": {},
     "output_type": "execute_result"
    }
   ],
   "source": [
    "exprs[0].expand()"
   ]
  },
  {
   "cell_type": "markdown",
   "metadata": {},
   "source": [
    "To do this to all entries of exprs at once, we can use the `map` function:"
   ]
  },
  {
   "cell_type": "code",
   "execution_count": 52,
   "metadata": {},
   "outputs": [
    {
     "data": {
      "image/png": "[encoded data removed]",
      "text/latex": [
       "$\\displaystyle \\left[ 8 + 6 i, \\  i\\right]$"
      ],
      "text/plain": [
       "[8 + 6⋅ⅈ, ⅈ]"
      ]
     },
     "execution_count": 52,
     "metadata": {},
     "output_type": "execute_result"
    }
   ],
   "source": [
    "list(map(sym.expand, exprs))"
   ]
  },
  {
   "cell_type": "markdown",
   "metadata": {},
   "source": [
    "This takes the `sym.expand` function and applies it to each entry in `exprs`."
   ]
  },
  {
   "cell_type": "markdown",
   "metadata": {},
   "source": [
    "<div class=\"alert alert-info\">\n",
    "    <h3>Exercise 2.2</h3>\n",
    "    <p>Make use of <code>map</code> to solve the system above (Q2(a)(iv) from Workshop 2). Compare your results with the solution you computed by hand.</p>\n",
    "</div>"
   ]
  },
  {
   "cell_type": "code",
   "execution_count": 57,
   "metadata": {},
   "outputs": [
    {
     "data": {
      "image/png": "[encoded data removed]",
      "text/latex": [
       "$\\displaystyle \\left[ \\operatorname{x_{1}}{\\left(t \\right)} = C_{1} \\left(2 + i\\right) e^{t \\left(\\frac{1}{2} - \\frac{i}{2} + \\frac{\\sqrt{-8 - 4 i + \\left(3 + i\\right)^{2}}}{2}\\right)} + C_{2} \\left(2 + i\\right) e^{t \\left(\\frac{1}{2} - \\frac{\\sqrt{-8 - 4 i + \\left(3 + i\\right)^{2}}}{2} - \\frac{i}{2}\\right)}, \\  \\operatorname{x_{2}}{\\left(t \\right)} = C_{1} \\left(- \\frac{3}{2} - \\frac{i}{2} + \\frac{\\sqrt{-8 - 4 i + \\left(3 + i\\right)^{2}}}{2}\\right) e^{t \\left(\\frac{1}{2} - \\frac{i}{2} + \\frac{\\sqrt{-8 - 4 i + \\left(3 + i\\right)^{2}}}{2}\\right)} + C_{2} \\left(- \\frac{3}{2} - \\frac{\\sqrt{-8 - 4 i + \\left(3 + i\\right)^{2}}}{2} - \\frac{i}{2}\\right) e^{t \\left(\\frac{1}{2} - \\frac{\\sqrt{-8 - 4 i + \\left(3 + i\\right)^{2}}}{2} - \\frac{i}{2}\\right)}\\right]$"
      ],
      "text/plain": [
       "⎡                      ⎛           _____________________⎞                 ⎛   \n",
       "⎢                      ⎜          ╱                   2 ⎟                 ⎜   \n",
       "⎢                      ⎜1   ⅈ   ╲╱  -8 - 4⋅ⅈ + (3 + ⅈ)  ⎟                 ⎜1  \n",
       "⎢                    t⋅⎜─ - ─ + ────────────────────────⎟               t⋅⎜─ -\n",
       "⎢                      ⎝2   2              2            ⎠                 ⎝2  \n",
       "⎢x₁(t) = C₁⋅(2 + ⅈ)⋅ℯ                                     + C₂⋅(2 + ⅈ)⋅ℯ      \n",
       "⎣                                                                             \n",
       "\n",
       "    _____________________    ⎞                                                \n",
       "   ╱                   2     ⎟                                                \n",
       " ╲╱  -8 - 4⋅ⅈ + (3 + ⅈ)     ⅈ⎟             ⎛             _____________________\n",
       " ──────────────────────── - ─⎟             ⎜            ╱                   2 \n",
       "            2               2⎠             ⎜  3   ⅈ   ╲╱  -8 - 4⋅ⅈ + (3 + ⅈ)  \n",
       "                              , x₂(t) = C₁⋅⎜- ─ - ─ + ────────────────────────\n",
       "                                           ⎝  2   2              2            \n",
       "\n",
       "     ⎛           _____________________⎞                                       \n",
       "     ⎜          ╱                   2 ⎟                                       \n",
       "⎞    ⎜1   ⅈ   ╲╱  -8 - 4⋅ⅈ + (3 + ⅈ)  ⎟      ⎛         _____________________  \n",
       "⎟  t⋅⎜─ - ─ + ────────────────────────⎟      ⎜        ╱                   2   \n",
       "⎟    ⎝2   2              2            ⎠      ⎜  3   ╲╱  -8 - 4⋅ⅈ + (3 + ⅈ)    \n",
       "⎟⋅ℯ                                     + C₂⋅⎜- ─ - ──────────────────────── -\n",
       "⎠                                            ⎝  2              2              \n",
       "\n",
       "       ⎛       _____________________    ⎞⎤\n",
       "       ⎜      ╱                   2     ⎟⎥\n",
       "  ⎞    ⎜1   ╲╱  -8 - 4⋅ⅈ + (3 + ⅈ)     ⅈ⎟⎥\n",
       "  ⎟  t⋅⎜─ - ──────────────────────── - ─⎟⎥\n",
       " ⅈ⎟    ⎝2              2               2⎠⎥\n",
       " ─⎟⋅ℯ                                    ⎥\n",
       " 2⎠                                      ⎦"
      ]
     },
     "execution_count": 57,
     "metadata": {},
     "output_type": "execute_result"
    }
   ],
   "source": [
    "M_2aiv = sym.Matrix([list(map(sym.expand,[2, 2+sym.I])),list(map(sym.expand,[-1, -1-sym.I]))])\n",
    "sym.dsolve(lin_system(M_2aiv))"
   ]
  },
  {
   "cell_type": "markdown",
   "metadata": {},
   "source": [
    "# 3. Numerical solution of ODEs"
   ]
  },
  {
   "cell_type": "markdown",
   "metadata": {},
   "source": [
    "Solving ODEs symbolically is not always possible, but we can use numerical methods to compute approximate solutions.\n",
    "\n",
    "We will make use of several pacakges to do this:\n",
    "\n",
    "* [SciPy](https://docs.scipy.org/doc/scipy/reference/index.html) provides numerical methods for solving ODEs, in particular the [odeint](https://docs.scipy.org/doc/scipy/reference/generated/scipy.integrate.odeint.html) function.\n",
    "\n",
    "* [NumPy](https://www.numpy.org/) provides useful tools for doing numerical calculations.\n",
    "\n",
    "* [Matplotlib](https://matplotlib.org/) is a widely-used library that produces plots from numerical data.\n",
    "\n",
    "The following chunk of code gets all of this set up:"
   ]
  },
  {
   "cell_type": "code",
   "execution_count": 2,
   "metadata": {},
   "outputs": [],
   "source": [
    "import numpy as np\n",
    "import matplotlib.pyplot as plt\n",
    "from scipy.integrate import odeint\n",
    "%matplotlib notebook"
   ]
  },
  {
   "cell_type": "markdown",
   "metadata": {},
   "source": [
    "Note that `%matplotlib notebook` makes the plots appear in an interactive window, with controls for zooming. Before moving on to the next plot, you should click the \"power\" icon in the top right of the plot, to close the interactive interface (if you don't do this, then the next plot will overwrite this one)."
   ]
  },
  {
   "cell_type": "markdown",
   "metadata": {},
   "source": [
    "***\n",
    "### Example\n",
    "To illustrate the method, let's return to the ODE we considered right at the start: $$\\frac{dy}{dt}-2y=4-t.$$\n",
    "***\n",
    "\n",
    "To use [odeint](https://docs.scipy.org/doc/scipy/reference/generated/scipy.integrate.odeint.html), we need to write a Python function that takes in $y$ and $t$ and returns $\\frac{dy}{dt}$. Rearranging the ODE, we have $$\\frac{dy}{dt}=4-t+2y$$ which we implement as follows:"
   ]
  },
  {
   "cell_type": "code",
   "execution_count": 60,
   "metadata": {},
   "outputs": [],
   "source": [
    "def dy_dt(y, t):\n",
    "    return(4-t+2*y)"
   ]
  },
  {
   "cell_type": "markdown",
   "metadata": {},
   "source": [
    "Next we define the initial condition `y0` and set up an array of equally-spaced points between 0 and 2 (which we call `t`). We then pass all of these ingredients to the `odeint` function, which returns the solution."
   ]
  },
  {
   "cell_type": "code",
   "execution_count": 77,
   "metadata": {},
   "outputs": [
    {
     "name": "stdout",
     "output_type": "stream",
     "text": [
      "[[0.        ]\n",
      " [0.02033985]\n",
      " [0.04054741]\n",
      " [0.06062921]\n",
      " [0.08059164]\n",
      " [0.10044103]\n",
      " [0.12018365]\n",
      " [0.13982567]\n",
      " [0.15937323]\n",
      " [0.17883236]\n",
      " [0.19820905]\n",
      " [0.21750923]\n",
      " [0.23673876]\n",
      " [0.25590343]\n",
      " [0.27500898]\n",
      " [0.2940611 ]\n",
      " [0.31306542]\n",
      " [0.33202753]\n",
      " [0.35095297]\n",
      " [0.36984721]\n",
      " [0.38871572]\n",
      " [0.40756387]\n",
      " [0.42639703]\n",
      " [0.44522049]\n",
      " [0.46403954]\n",
      " [0.48285942]\n",
      " [0.50168532]\n",
      " [0.52052242]\n",
      " [0.53937586]\n",
      " [0.55825073]\n",
      " [0.57715213]\n",
      " [0.59608509]\n",
      " [0.61505465]\n",
      " [0.6340658 ]\n",
      " [0.65312352]\n",
      " [0.67223278]\n",
      " [0.6913985 ]\n",
      " [0.71062562]\n",
      " [0.72991904]\n",
      " [0.74928364]\n",
      " [0.7687243 ]\n",
      " [0.78824589]\n",
      " [0.80785325]\n",
      " [0.82755124]\n",
      " [0.84734469]\n",
      " [0.86723843]\n",
      " [0.88723728]\n",
      " [0.90734607]\n",
      " [0.92756961]\n",
      " [0.94791273]]\n"
     ]
    }
   ],
   "source": [
    "y0 = 0\n",
    "t = np.linspace(0, 2, 50)\n",
    "sol = odeint(dy_dt, y0, t)\n",
    "print(sol)"
   ]
  },
  {
   "cell_type": "markdown",
   "metadata": {},
   "source": [
    "<span class=\"label label-danger\">Task</span> Using either a new notebook cell or just adding an extra line to the one above, print out the value of `sol` so you can see what form it takes.\n",
    "\n",
    "We can then use the [Matplotlib plot function](https://matplotlib.org/3.1.1/api/_as_gen/matplotlib.pyplot.plot.html) to produce a plot of the solution:"
   ]
  },
  {
   "cell_type": "code",
   "execution_count": 78,
   "metadata": {},
   "outputs": [
    {
     "data": {
      "application/javascript": [
       "/* Put everything inside the global mpl namespace */\n",
       "window.mpl = {};\n",
       "\n",
       "\n",
       "mpl.get_websocket_type = function() {\n",
       "    if (typeof(WebSocket) !== 'undefined') {\n",
       "        return WebSocket;\n",
       "    } else if (typeof(MozWebSocket) !== 'undefined') {\n",
       "        return MozWebSocket;\n",
       "    } else {\n",
       "        alert('Your browser does not have WebSocket support. ' +\n",
       "              'Please try Chrome, Safari or Firefox ≥ 6. ' +\n",
       "              'Firefox 4 and 5 are also supported but you ' +\n",
       "              'have to enable WebSockets in about:config.');\n",
       "    };\n",
       "}\n",
       "\n",
       "mpl.figure = function(figure_id, websocket, ondownload, parent_element) {\n",
       "    this.id = figure_id;\n",
       "\n",
       "    this.ws = websocket;\n",
       "\n",
       "    this.supports_binary = (this.ws.binaryType != undefined);\n",
       "\n",
       "    if (!this.supports_binary) {\n",
       "        var warnings = document.getElementById(\"mpl-warnings\");\n",
       "        if (warnings) {\n",
       "            warnings.style.display = 'block';\n",
       "            warnings.textContent = (\n",
       "                \"This browser does not support binary websocket messages. \" +\n",
       "                    \"Performance may be slow.\");\n",
       "        }\n",
       "    }\n",
       "\n",
       "    this.imageObj = new Image();\n",
       "\n",
       "    this.context = undefined;\n",
       "    this.message = undefined;\n",
       "    this.canvas = undefined;\n",
       "    this.rubberband_canvas = undefined;\n",
       "    this.rubberband_context = undefined;\n",
       "    this.format_dropdown = undefined;\n",
       "\n",
       "    this.image_mode = 'full';\n",
       "\n",
       "    this.root = $('<div/>');\n",
       "    this._root_extra_style(this.root)\n",
       "    this.root.attr('style', 'display: inline-block');\n",
       "\n",
       "    $(parent_element).append(this.root);\n",
       "\n",
       "    this._init_header(this);\n",
       "    this._init_canvas(this);\n",
       "    this._init_toolbar(this);\n",
       "\n",
       "    var fig = this;\n",
       "\n",
       "    this.waiting = false;\n",
       "\n",
       "    this.ws.onopen =  function () {\n",
       "            fig.send_message(\"supports_binary\", {value: fig.supports_binary});\n",
       "            fig.send_message(\"send_image_mode\", {});\n",
       "            if (mpl.ratio != 1) {\n",
       "                fig.send_message(\"set_dpi_ratio\", {'dpi_ratio': mpl.ratio});\n",
       "            }\n",
       "            fig.send_message(\"refresh\", {});\n",
       "        }\n",
       "\n",
       "    this.imageObj.onload = function() {\n",
       "            if (fig.image_mode == 'full') {\n",
       "                // Full images could contain transparency (where diff images\n",
       "                // almost always do), so we need to clear the canvas so that\n",
       "                // there is no ghosting.\n",
       "                fig.context.clearRect(0, 0, fig.canvas.width, fig.canvas.height);\n",
       "            }\n",
       "            fig.context.drawImage(fig.imageObj, 0, 0);\n",
       "        };\n",
       "\n",
       "    this.imageObj.onunload = function() {\n",
       "        fig.ws.close();\n",
       "    }\n",
       "\n",
       "    this.ws.onmessage = this._make_on_message_function(this);\n",
       "\n",
       "    this.ondownload = ondownload;\n",
       "}\n",
       "\n",
       "mpl.figure.prototype._init_header = function() {\n",
       "    var titlebar = $(\n",
       "        '<div class=\"ui-dialog-titlebar ui-widget-header ui-corner-all ' +\n",
       "        'ui-helper-clearfix\"/>');\n",
       "    var titletext = $(\n",
       "        '<div class=\"ui-dialog-title\" style=\"width: 100%; ' +\n",
       "        'text-align: center; padding: 3px;\"/>');\n",
       "    titlebar.append(titletext)\n",
       "    this.root.append(titlebar);\n",
       "    this.header = titletext[0];\n",
       "}\n",
       "\n",
       "\n",
       "\n",
       "mpl.figure.prototype._canvas_extra_style = function(canvas_div) {\n",
       "\n",
       "}\n",
       "\n",
       "\n",
       "mpl.figure.prototype._root_extra_style = function(canvas_div) {\n",
       "\n",
       "}\n",
       "\n",
       "mpl.figure.prototype._init_canvas = function() {\n",
       "    var fig = this;\n",
       "\n",
       "    var canvas_div = $('<div/>');\n",
       "\n",
       "    canvas_div.attr('style', 'position: relative; clear: both; outline: 0');\n",
       "\n",
       "    function canvas_keyboard_event(event) {\n",
       "        return fig.key_event(event, event['data']);\n",
       "    }\n",
       "\n",
       "    canvas_div.keydown('key_press', canvas_keyboard_event);\n",
       "    canvas_div.keyup('key_release', canvas_keyboard_event);\n",
       "    this.canvas_div = canvas_div\n",
       "    this._canvas_extra_style(canvas_div)\n",
       "    this.root.append(canvas_div);\n",
       "\n",
       "    var canvas = $('<canvas/>');\n",
       "    canvas.addClass('mpl-canvas');\n",
       "    canvas.attr('style', \"left: 0; top: 0; z-index: 0; outline: 0\")\n",
       "\n",
       "    this.canvas = canvas[0];\n",
       "    this.context = canvas[0].getContext(\"2d\");\n",
       "\n",
       "    var backingStore = this.context.backingStorePixelRatio ||\n",
       "\tthis.context.webkitBackingStorePixelRatio ||\n",
       "\tthis.context.mozBackingStorePixelRatio ||\n",
       "\tthis.context.msBackingStorePixelRatio ||\n",
       "\tthis.context.oBackingStorePixelRatio ||\n",
       "\tthis.context.backingStorePixelRatio || 1;\n",
       "\n",
       "    mpl.ratio = (window.devicePixelRatio || 1) / backingStore;\n",
       "\n",
       "    var rubberband = $('<canvas/>');\n",
       "    rubberband.attr('style', \"position: absolute; left: 0; top: 0; z-index: 1;\")\n",
       "\n",
       "    var pass_mouse_events = true;\n",
       "\n",
       "    canvas_div.resizable({\n",
       "        start: function(event, ui) {\n",
       "            pass_mouse_events = false;\n",
       "        },\n",
       "        resize: function(event, ui) {\n",
       "            fig.request_resize(ui.size.width, ui.size.height);\n",
       "        },\n",
       "        stop: function(event, ui) {\n",
       "            pass_mouse_events = true;\n",
       "            fig.request_resize(ui.size.width, ui.size.height);\n",
       "        },\n",
       "    });\n",
       "\n",
       "    function mouse_event_fn(event) {\n",
       "        if (pass_mouse_events)\n",
       "            return fig.mouse_event(event, event['data']);\n",
       "    }\n",
       "\n",
       "    rubberband.mousedown('button_press', mouse_event_fn);\n",
       "    rubberband.mouseup('button_release', mouse_event_fn);\n",
       "    // Throttle sequential mouse events to 1 every 20ms.\n",
       "    rubberband.mousemove('motion_notify', mouse_event_fn);\n",
       "\n",
       "    rubberband.mouseenter('figure_enter', mouse_event_fn);\n",
       "    rubberband.mouseleave('figure_leave', mouse_event_fn);\n",
       "\n",
       "    canvas_div.on(\"wheel\", function (event) {\n",
       "        event = event.originalEvent;\n",
       "        event['data'] = 'scroll'\n",
       "        if (event.deltaY < 0) {\n",
       "            event.step = 1;\n",
       "        } else {\n",
       "            event.step = -1;\n",
       "        }\n",
       "        mouse_event_fn(event);\n",
       "    });\n",
       "\n",
       "    canvas_div.append(canvas);\n",
       "    canvas_div.append(rubberband);\n",
       "\n",
       "    this.rubberband = rubberband;\n",
       "    this.rubberband_canvas = rubberband[0];\n",
       "    this.rubberband_context = rubberband[0].getContext(\"2d\");\n",
       "    this.rubberband_context.strokeStyle = \"#000000\";\n",
       "\n",
       "    this._resize_canvas = function(width, height) {\n",
       "        // Keep the size of the canvas, canvas container, and rubber band\n",
       "        // canvas in synch.\n",
       "        canvas_div.css('width', width)\n",
       "        canvas_div.css('height', height)\n",
       "\n",
       "        canvas.attr('width', width * mpl.ratio);\n",
       "        canvas.attr('height', height * mpl.ratio);\n",
       "        canvas.attr('style', 'width: ' + width + 'px; height: ' + height + 'px;');\n",
       "\n",
       "        rubberband.attr('width', width);\n",
       "        rubberband.attr('height', height);\n",
       "    }\n",
       "\n",
       "    // Set the figure to an initial 600x600px, this will subsequently be updated\n",
       "    // upon first draw.\n",
       "    this._resize_canvas(600, 600);\n",
       "\n",
       "    // Disable right mouse context menu.\n",
       "    $(this.rubberband_canvas).bind(\"contextmenu\",function(e){\n",
       "        return false;\n",
       "    });\n",
       "\n",
       "    function set_focus () {\n",
       "        canvas.focus();\n",
       "        canvas_div.focus();\n",
       "    }\n",
       "\n",
       "    window.setTimeout(set_focus, 100);\n",
       "}\n",
       "\n",
       "mpl.figure.prototype._init_toolbar = function() {\n",
       "    var fig = this;\n",
       "\n",
       "    var nav_element = $('<div/>');\n",
       "    nav_element.attr('style', 'width: 100%');\n",
       "    this.root.append(nav_element);\n",
       "\n",
       "    // Define a callback function for later on.\n",
       "    function toolbar_event(event) {\n",
       "        return fig.toolbar_button_onclick(event['data']);\n",
       "    }\n",
       "    function toolbar_mouse_event(event) {\n",
       "        return fig.toolbar_button_onmouseover(event['data']);\n",
       "    }\n",
       "\n",
       "    for(var toolbar_ind in mpl.toolbar_items) {\n",
       "        var name = mpl.toolbar_items[toolbar_ind][0];\n",
       "        var tooltip = mpl.toolbar_items[toolbar_ind][1];\n",
       "        var image = mpl.toolbar_items[toolbar_ind][2];\n",
       "        var method_name = mpl.toolbar_items[toolbar_ind][3];\n",
       "\n",
       "        if (!name) {\n",
       "            // put a spacer in here.\n",
       "            continue;\n",
       "        }\n",
       "        var button = $('<button/>');\n",
       "        button.addClass('ui-button ui-widget ui-state-default ui-corner-all ' +\n",
       "                        'ui-button-icon-only');\n",
       "        button.attr('role', 'button');\n",
       "        button.attr('aria-disabled', 'false');\n",
       "        button.click(method_name, toolbar_event);\n",
       "        button.mouseover(tooltip, toolbar_mouse_event);\n",
       "\n",
       "        var icon_img = $('<span/>');\n",
       "        icon_img.addClass('ui-button-icon-primary ui-icon');\n",
       "        icon_img.addClass(image);\n",
       "        icon_img.addClass('ui-corner-all');\n",
       "\n",
       "        var tooltip_span = $('<span/>');\n",
       "        tooltip_span.addClass('ui-button-text');\n",
       "        tooltip_span.html(tooltip);\n",
       "\n",
       "        button.append(icon_img);\n",
       "        button.append(tooltip_span);\n",
       "\n",
       "        nav_element.append(button);\n",
       "    }\n",
       "\n",
       "    var fmt_picker_span = $('<span/>');\n",
       "\n",
       "    var fmt_picker = $('<select/>');\n",
       "    fmt_picker.addClass('mpl-toolbar-option ui-widget ui-widget-content');\n",
       "    fmt_picker_span.append(fmt_picker);\n",
       "    nav_element.append(fmt_picker_span);\n",
       "    this.format_dropdown = fmt_picker[0];\n",
       "\n",
       "    for (var ind in mpl.extensions) {\n",
       "        var fmt = mpl.extensions[ind];\n",
       "        var option = $(\n",
       "            '<option/>', {selected: fmt === mpl.default_extension}).html(fmt);\n",
       "        fmt_picker.append(option);\n",
       "    }\n",
       "\n",
       "    // Add hover states to the ui-buttons\n",
       "    $( \".ui-button\" ).hover(\n",
       "        function() { $(this).addClass(\"ui-state-hover\");},\n",
       "        function() { $(this).removeClass(\"ui-state-hover\");}\n",
       "    );\n",
       "\n",
       "    var status_bar = $('<span class=\"mpl-message\"/>');\n",
       "    nav_element.append(status_bar);\n",
       "    this.message = status_bar[0];\n",
       "}\n",
       "\n",
       "mpl.figure.prototype.request_resize = function(x_pixels, y_pixels) {\n",
       "    // Request matplotlib to resize the figure. Matplotlib will then trigger a resize in the client,\n",
       "    // which will in turn request a refresh of the image.\n",
       "    this.send_message('resize', {'width': x_pixels, 'height': y_pixels});\n",
       "}\n",
       "\n",
       "mpl.figure.prototype.send_message = function(type, properties) {\n",
       "    properties['type'] = type;\n",
       "    properties['figure_id'] = this.id;\n",
       "    this.ws.send(JSON.stringify(properties));\n",
       "}\n",
       "\n",
       "mpl.figure.prototype.send_draw_message = function() {\n",
       "    if (!this.waiting) {\n",
       "        this.waiting = true;\n",
       "        this.ws.send(JSON.stringify({type: \"draw\", figure_id: this.id}));\n",
       "    }\n",
       "}\n",
       "\n",
       "\n",
       "mpl.figure.prototype.handle_save = function(fig, msg) {\n",
       "    var format_dropdown = fig.format_dropdown;\n",
       "    var format = format_dropdown.options[format_dropdown.selectedIndex].value;\n",
       "    fig.ondownload(fig, format);\n",
       "}\n",
       "\n",
       "\n",
       "mpl.figure.prototype.handle_resize = function(fig, msg) {\n",
       "    var size = msg['size'];\n",
       "    if (size[0] != fig.canvas.width || size[1] != fig.canvas.height) {\n",
       "        fig._resize_canvas(size[0], size[1]);\n",
       "        fig.send_message(\"refresh\", {});\n",
       "    };\n",
       "}\n",
       "\n",
       "mpl.figure.prototype.handle_rubberband = function(fig, msg) {\n",
       "    var x0 = msg['x0'] / mpl.ratio;\n",
       "    var y0 = (fig.canvas.height - msg['y0']) / mpl.ratio;\n",
       "    var x1 = msg['x1'] / mpl.ratio;\n",
       "    var y1 = (fig.canvas.height - msg['y1']) / mpl.ratio;\n",
       "    x0 = Math.floor(x0) + 0.5;\n",
       "    y0 = Math.floor(y0) + 0.5;\n",
       "    x1 = Math.floor(x1) + 0.5;\n",
       "    y1 = Math.floor(y1) + 0.5;\n",
       "    var min_x = Math.min(x0, x1);\n",
       "    var min_y = Math.min(y0, y1);\n",
       "    var width = Math.abs(x1 - x0);\n",
       "    var height = Math.abs(y1 - y0);\n",
       "\n",
       "    fig.rubberband_context.clearRect(\n",
       "        0, 0, fig.canvas.width, fig.canvas.height);\n",
       "\n",
       "    fig.rubberband_context.strokeRect(min_x, min_y, width, height);\n",
       "}\n",
       "\n",
       "mpl.figure.prototype.handle_figure_label = function(fig, msg) {\n",
       "    // Updates the figure title.\n",
       "    fig.header.textContent = msg['label'];\n",
       "}\n",
       "\n",
       "mpl.figure.prototype.handle_cursor = function(fig, msg) {\n",
       "    var cursor = msg['cursor'];\n",
       "    switch(cursor)\n",
       "    {\n",
       "    case 0:\n",
       "        cursor = 'pointer';\n",
       "        break;\n",
       "    case 1:\n",
       "        cursor = 'default';\n",
       "        break;\n",
       "    case 2:\n",
       "        cursor = 'crosshair';\n",
       "        break;\n",
       "    case 3:\n",
       "        cursor = 'move';\n",
       "        break;\n",
       "    }\n",
       "    fig.rubberband_canvas.style.cursor = cursor;\n",
       "}\n",
       "\n",
       "mpl.figure.prototype.handle_message = function(fig, msg) {\n",
       "    fig.message.textContent = msg['message'];\n",
       "}\n",
       "\n",
       "mpl.figure.prototype.handle_draw = function(fig, msg) {\n",
       "    // Request the server to send over a new figure.\n",
       "    fig.send_draw_message();\n",
       "}\n",
       "\n",
       "mpl.figure.prototype.handle_image_mode = function(fig, msg) {\n",
       "    fig.image_mode = msg['mode'];\n",
       "}\n",
       "\n",
       "mpl.figure.prototype.updated_canvas_event = function() {\n",
       "    // Called whenever the canvas gets updated.\n",
       "    this.send_message(\"ack\", {});\n",
       "}\n",
       "\n",
       "// A function to construct a web socket function for onmessage handling.\n",
       "// Called in the figure constructor.\n",
       "mpl.figure.prototype._make_on_message_function = function(fig) {\n",
       "    return function socket_on_message(evt) {\n",
       "        if (evt.data instanceof Blob) {\n",
       "            /* FIXME: We get \"Resource interpreted as Image but\n",
       "             * transferred with MIME type text/plain:\" errors on\n",
       "             * Chrome.  But how to set the MIME type?  It doesn't seem\n",
       "             * to be part of the websocket stream */\n",
       "            evt.data.type = \"image/png\";\n",
       "\n",
       "            /* Free the memory for the previous frames */\n",
       "            if (fig.imageObj.src) {\n",
       "                (window.URL || window.webkitURL).revokeObjectURL(\n",
       "                    fig.imageObj.src);\n",
       "            }\n",
       "\n",
       "            fig.imageObj.src = (window.URL || window.webkitURL).createObjectURL(\n",
       "                evt.data);\n",
       "            fig.updated_canvas_event();\n",
       "            fig.waiting = false;\n",
       "            return;\n",
       "        }\n",
       "        else if (typeof evt.data === 'string' && evt.data.slice(0, 21) == \"data:image/png;base64\") {\n",
       "            fig.imageObj.src = evt.data;\n",
       "            fig.updated_canvas_event();\n",
       "            fig.waiting = false;\n",
       "            return;\n",
       "        }\n",
       "\n",
       "        var msg = JSON.parse(evt.data);\n",
       "        var msg_type = msg['type'];\n",
       "\n",
       "        // Call the  \"handle_{type}\" callback, which takes\n",
       "        // the figure and JSON message as its only arguments.\n",
       "        try {\n",
       "            var callback = fig[\"handle_\" + msg_type];\n",
       "        } catch (e) {\n",
       "            console.log(\"No handler for the '\" + msg_type + \"' message type: \", msg);\n",
       "            return;\n",
       "        }\n",
       "\n",
       "        if (callback) {\n",
       "            try {\n",
       "                // console.log(\"Handling '\" + msg_type + \"' message: \", msg);\n",
       "                callback(fig, msg);\n",
       "            } catch (e) {\n",
       "                console.log(\"Exception inside the 'handler_\" + msg_type + \"' callback:\", e, e.stack, msg);\n",
       "            }\n",
       "        }\n",
       "    };\n",
       "}\n",
       "\n",
       "// from http://stackoverflow.com/questions/1114465/getting-mouse-location-in-canvas\n",
       "mpl.findpos = function(e) {\n",
       "    //this section is from http://www.quirksmode.org/js/events_properties.html\n",
       "    var targ;\n",
       "    if (!e)\n",
       "        e = window.event;\n",
       "    if (e.target)\n",
       "        targ = e.target;\n",
       "    else if (e.srcElement)\n",
       "        targ = e.srcElement;\n",
       "    if (targ.nodeType == 3) // defeat Safari bug\n",
       "        targ = targ.parentNode;\n",
       "\n",
       "    // jQuery normalizes the pageX and pageY\n",
       "    // pageX,Y are the mouse positions relative to the document\n",
       "    // offset() returns the position of the element relative to the document\n",
       "    var x = e.pageX - $(targ).offset().left;\n",
       "    var y = e.pageY - $(targ).offset().top;\n",
       "\n",
       "    return {\"x\": x, \"y\": y};\n",
       "};\n",
       "\n",
       "/*\n",
       " * return a copy of an object with only non-object keys\n",
       " * we need this to avoid circular references\n",
       " * http://stackoverflow.com/a/24161582/3208463\n",
       " */\n",
       "function simpleKeys (original) {\n",
       "  return Object.keys(original).reduce(function (obj, key) {\n",
       "    if (typeof original[key] !== 'object')\n",
       "        obj[key] = original[key]\n",
       "    return obj;\n",
       "  }, {});\n",
       "}\n",
       "\n",
       "mpl.figure.prototype.mouse_event = function(event, name) {\n",
       "    var canvas_pos = mpl.findpos(event)\n",
       "\n",
       "    if (name === 'button_press')\n",
       "    {\n",
       "        this.canvas.focus();\n",
       "        this.canvas_div.focus();\n",
       "    }\n",
       "\n",
       "    var x = canvas_pos.x * mpl.ratio;\n",
       "    var y = canvas_pos.y * mpl.ratio;\n",
       "\n",
       "    this.send_message(name, {x: x, y: y, button: event.button,\n",
       "                             step: event.step,\n",
       "                             guiEvent: simpleKeys(event)});\n",
       "\n",
       "    /* This prevents the web browser from automatically changing to\n",
       "     * the text insertion cursor when the button is pressed.  We want\n",
       "     * to control all of the cursor setting manually through the\n",
       "     * 'cursor' event from matplotlib */\n",
       "    event.preventDefault();\n",
       "    return false;\n",
       "}\n",
       "\n",
       "mpl.figure.prototype._key_event_extra = function(event, name) {\n",
       "    // Handle any extra behaviour associated with a key event\n",
       "}\n",
       "\n",
       "mpl.figure.prototype.key_event = function(event, name) {\n",
       "\n",
       "    // Prevent repeat events\n",
       "    if (name == 'key_press')\n",
       "    {\n",
       "        if (event.which === this._key)\n",
       "            return;\n",
       "        else\n",
       "            this._key = event.which;\n",
       "    }\n",
       "    if (name == 'key_release')\n",
       "        this._key = null;\n",
       "\n",
       "    var value = '';\n",
       "    if (event.ctrlKey && event.which != 17)\n",
       "        value += \"ctrl+\";\n",
       "    if (event.altKey && event.which != 18)\n",
       "        value += \"alt+\";\n",
       "    if (event.shiftKey && event.which != 16)\n",
       "        value += \"shift+\";\n",
       "\n",
       "    value += 'k';\n",
       "    value += event.which.toString();\n",
       "\n",
       "    this._key_event_extra(event, name);\n",
       "\n",
       "    this.send_message(name, {key: value,\n",
       "                             guiEvent: simpleKeys(event)});\n",
       "    return false;\n",
       "}\n",
       "\n",
       "mpl.figure.prototype.toolbar_button_onclick = function(name) {\n",
       "    if (name == 'download') {\n",
       "        this.handle_save(this, null);\n",
       "    } else {\n",
       "        this.send_message(\"toolbar_button\", {name: name});\n",
       "    }\n",
       "};\n",
       "\n",
       "mpl.figure.prototype.toolbar_button_onmouseover = function(tooltip) {\n",
       "    this.message.textContent = tooltip;\n",
       "};\n",
       "mpl.toolbar_items = [[\"Home\", \"Reset original view\", \"fa fa-home icon-home\", \"home\"], [\"Back\", \"Back to previous view\", \"fa fa-arrow-left icon-arrow-left\", \"back\"], [\"Forward\", \"Forward to next view\", \"fa fa-arrow-right icon-arrow-right\", \"forward\"], [\"\", \"\", \"\", \"\"], [\"Pan\", \"Pan axes with left mouse, zoom with right\", \"fa fa-arrows icon-move\", \"pan\"], [\"Zoom\", \"Zoom to rectangle\", \"fa fa-square-o icon-check-empty\", \"zoom\"], [\"\", \"\", \"\", \"\"], [\"Download\", \"Download plot\", \"fa fa-floppy-o icon-save\", \"download\"]];\n",
       "\n",
       "mpl.extensions = [\"eps\", \"jpeg\", \"pdf\", \"png\", \"ps\", \"raw\", \"svg\", \"tif\"];\n",
       "\n",
       "mpl.default_extension = \"png\";var comm_websocket_adapter = function(comm) {\n",
       "    // Create a \"websocket\"-like object which calls the given IPython comm\n",
       "    // object with the appropriate methods. Currently this is a non binary\n",
       "    // socket, so there is still some room for performance tuning.\n",
       "    var ws = {};\n",
       "\n",
       "    ws.close = function() {\n",
       "        comm.close()\n",
       "    };\n",
       "    ws.send = function(m) {\n",
       "        //console.log('sending', m);\n",
       "        comm.send(m);\n",
       "    };\n",
       "    // Register the callback with on_msg.\n",
       "    comm.on_msg(function(msg) {\n",
       "        //console.log('receiving', msg['content']['data'], msg);\n",
       "        // Pass the mpl event to the overridden (by mpl) onmessage function.\n",
       "        ws.onmessage(msg['content']['data'])\n",
       "    });\n",
       "    return ws;\n",
       "}\n",
       "\n",
       "mpl.mpl_figure_comm = function(comm, msg) {\n",
       "    // This is the function which gets called when the mpl process\n",
       "    // starts-up an IPython Comm through the \"matplotlib\" channel.\n",
       "\n",
       "    var id = msg.content.data.id;\n",
       "    // Get hold of the div created by the display call when the Comm\n",
       "    // socket was opened in Python.\n",
       "    var element = $(\"#\" + id);\n",
       "    var ws_proxy = comm_websocket_adapter(comm)\n",
       "\n",
       "    function ondownload(figure, format) {\n",
       "        window.open(figure.imageObj.src);\n",
       "    }\n",
       "\n",
       "    var fig = new mpl.figure(id, ws_proxy,\n",
       "                           ondownload,\n",
       "                           element.get(0));\n",
       "\n",
       "    // Call onopen now - mpl needs it, as it is assuming we've passed it a real\n",
       "    // web socket which is closed, not our websocket->open comm proxy.\n",
       "    ws_proxy.onopen();\n",
       "\n",
       "    fig.parent_element = element.get(0);\n",
       "    fig.cell_info = mpl.find_output_cell(\"<div id='\" + id + \"'></div>\");\n",
       "    if (!fig.cell_info) {\n",
       "        console.error(\"Failed to find cell for figure\", id, fig);\n",
       "        return;\n",
       "    }\n",
       "\n",
       "    var output_index = fig.cell_info[2]\n",
       "    var cell = fig.cell_info[0];\n",
       "\n",
       "};\n",
       "\n",
       "mpl.figure.prototype.handle_close = function(fig, msg) {\n",
       "    var width = fig.canvas.width/mpl.ratio\n",
       "    fig.root.unbind('remove')\n",
       "\n",
       "    // Update the output cell to use the data from the current canvas.\n",
       "    fig.push_to_output();\n",
       "    var dataURL = fig.canvas.toDataURL();\n",
       "    // Re-enable the keyboard manager in IPython - without this line, in FF,\n",
       "    // the notebook keyboard shortcuts fail.\n",
       "    IPython.keyboard_manager.enable()\n",
       "    $(fig.parent_element).html('<img src=\"' + dataURL + '\" width=\"' + width + '\">');\n",
       "    fig.close_ws(fig, msg);\n",
       "}\n",
       "\n",
       "mpl.figure.prototype.close_ws = function(fig, msg){\n",
       "    fig.send_message('closing', msg);\n",
       "    // fig.ws.close()\n",
       "}\n",
       "\n",
       "mpl.figure.prototype.push_to_output = function(remove_interactive) {\n",
       "    // Turn the data on the canvas into data in the output cell.\n",
       "    var width = this.canvas.width/mpl.ratio\n",
       "    var dataURL = this.canvas.toDataURL();\n",
       "    this.cell_info[1]['text/html'] = '<img src=\"' + dataURL + '\" width=\"' + width + '\">';\n",
       "}\n",
       "\n",
       "mpl.figure.prototype.updated_canvas_event = function() {\n",
       "    // Tell IPython that the notebook contents must change.\n",
       "    IPython.notebook.set_dirty(true);\n",
       "    this.send_message(\"ack\", {});\n",
       "    var fig = this;\n",
       "    // Wait a second, then push the new image to the DOM so\n",
       "    // that it is saved nicely (might be nice to debounce this).\n",
       "    setTimeout(function () { fig.push_to_output() }, 1000);\n",
       "}\n",
       "\n",
       "mpl.figure.prototype._init_toolbar = function() {\n",
       "    var fig = this;\n",
       "\n",
       "    var nav_element = $('<div/>');\n",
       "    nav_element.attr('style', 'width: 100%');\n",
       "    this.root.append(nav_element);\n",
       "\n",
       "    // Define a callback function for later on.\n",
       "    function toolbar_event(event) {\n",
       "        return fig.toolbar_button_onclick(event['data']);\n",
       "    }\n",
       "    function toolbar_mouse_event(event) {\n",
       "        return fig.toolbar_button_onmouseover(event['data']);\n",
       "    }\n",
       "\n",
       "    for(var toolbar_ind in mpl.toolbar_items){\n",
       "        var name = mpl.toolbar_items[toolbar_ind][0];\n",
       "        var tooltip = mpl.toolbar_items[toolbar_ind][1];\n",
       "        var image = mpl.toolbar_items[toolbar_ind][2];\n",
       "        var method_name = mpl.toolbar_items[toolbar_ind][3];\n",
       "\n",
       "        if (!name) { continue; };\n",
       "\n",
       "        var button = $('<button class=\"btn btn-default\" href=\"#\" title=\"' + name + '\"><i class=\"fa ' + image + ' fa-lg\"></i></button>');\n",
       "        button.click(method_name, toolbar_event);\n",
       "        button.mouseover(tooltip, toolbar_mouse_event);\n",
       "        nav_element.append(button);\n",
       "    }\n",
       "\n",
       "    // Add the status bar.\n",
       "    var status_bar = $('<span class=\"mpl-message\" style=\"text-align:right; float: right;\"/>');\n",
       "    nav_element.append(status_bar);\n",
       "    this.message = status_bar[0];\n",
       "\n",
       "    // Add the close button to the window.\n",
       "    var buttongrp = $('<div class=\"btn-group inline pull-right\"></div>');\n",
       "    var button = $('<button class=\"btn btn-mini btn-primary\" href=\"#\" title=\"Stop Interaction\"><i class=\"fa fa-power-off icon-remove icon-large\"></i></button>');\n",
       "    button.click(function (evt) { fig.handle_close(fig, {}); } );\n",
       "    button.mouseover('Stop Interaction', toolbar_mouse_event);\n",
       "    buttongrp.append(button);\n",
       "    var titlebar = this.root.find($('.ui-dialog-titlebar'));\n",
       "    titlebar.prepend(buttongrp);\n",
       "}\n",
       "\n",
       "mpl.figure.prototype._root_extra_style = function(el){\n",
       "    var fig = this\n",
       "    el.on(\"remove\", function(){\n",
       "\tfig.close_ws(fig, {});\n",
       "    });\n",
       "}\n",
       "\n",
       "mpl.figure.prototype._canvas_extra_style = function(el){\n",
       "    // this is important to make the div 'focusable\n",
       "    el.attr('tabindex', 0)\n",
       "    // reach out to IPython and tell the keyboard manager to turn it's self\n",
       "    // off when our div gets focus\n",
       "\n",
       "    // location in version 3\n",
       "    if (IPython.notebook.keyboard_manager) {\n",
       "        IPython.notebook.keyboard_manager.register_events(el);\n",
       "    }\n",
       "    else {\n",
       "        // location in version 2\n",
       "        IPython.keyboard_manager.register_events(el);\n",
       "    }\n",
       "\n",
       "}\n",
       "\n",
       "mpl.figure.prototype._key_event_extra = function(event, name) {\n",
       "    var manager = IPython.notebook.keyboard_manager;\n",
       "    if (!manager)\n",
       "        manager = IPython.keyboard_manager;\n",
       "\n",
       "    // Check for shift+enter\n",
       "    if (event.shiftKey && event.which == 13) {\n",
       "        this.canvas_div.blur();\n",
       "        event.shiftKey = false;\n",
       "        // Send a \"J\" for go to next cell\n",
       "        event.which = 74;\n",
       "        event.keyCode = 74;\n",
       "        manager.command_mode();\n",
       "        manager.handle_keydown(event);\n",
       "    }\n",
       "}\n",
       "\n",
       "mpl.figure.prototype.handle_save = function(fig, msg) {\n",
       "    fig.ondownload(fig, null);\n",
       "}\n",
       "\n",
       "\n",
       "mpl.find_output_cell = function(html_output) {\n",
       "    // Return the cell and output element which can be found *uniquely* in the notebook.\n",
       "    // Note - this is a bit hacky, but it is done because the \"notebook_saving.Notebook\"\n",
       "    // IPython event is triggered only after the cells have been serialised, which for\n",
       "    // our purposes (turning an active figure into a static one), is too late.\n",
       "    var cells = IPython.notebook.get_cells();\n",
       "    var ncells = cells.length;\n",
       "    for (var i=0; i<ncells; i++) {\n",
       "        var cell = cells[i];\n",
       "        if (cell.cell_type === 'code'){\n",
       "            for (var j=0; j<cell.output_area.outputs.length; j++) {\n",
       "                var data = cell.output_area.outputs[j];\n",
       "                if (data.data) {\n",
       "                    // IPython >= 3 moved mimebundle to data attribute of output\n",
       "                    data = data.data;\n",
       "                }\n",
       "                if (data['text/html'] == html_output) {\n",
       "                    return [cell, data, j];\n",
       "                }\n",
       "            }\n",
       "        }\n",
       "    }\n",
       "}\n",
       "\n",
       "// Register the function which deals with the matplotlib target/channel.\n",
       "// The kernel may be null if the page has been refreshed.\n",
       "if (IPython.notebook.kernel != null) {\n",
       "    IPython.notebook.kernel.comm_manager.register_target('matplotlib', mpl.mpl_figure_comm);\n",
       "}\n"
      ],
      "text/plain": [
       "<IPython.core.display.Javascript object>"
      ]
     },
     "metadata": {},
     "output_type": "display_data"
    },
    {
     "data": {
      "text/html": [
       "<img src=\"data:image/png;base64,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\" width=\"638.888905813665\">"
      ],
      "text/plain": [
       "<IPython.core.display.HTML object>"
      ]
     },
     "metadata": {},
     "output_type": "display_data"
    }
   ],
   "source": [
    "plt.plot(t, sol, 'b', label='y(t)') # 'b' is a way of specifying the line colour\n",
    "plt.legend(loc='best')\n",
    "plt.xlabel('t')\n",
    "plt.show()"
   ]
  },
  {
   "cell_type": "markdown",
   "metadata": {},
   "source": [
    "***\n",
    "### Example\n",
    "$$2y'+ty=2$$\n",
    "\n",
    "This is Example 5 in §2.1 of Boyce & DiPrima (pp38-39).\n",
    "***\n",
    "It turns out that SymPy _can_ solve this system, though it requires the use of a \"special function\", i.e. not one of the standard functions like $\\exp$, $\\sin$, $\\cos$."
   ]
  },
  {
   "cell_type": "code",
   "execution_count": 65,
   "metadata": {},
   "outputs": [
    {
     "data": {
      "image/png": "[encoded data removed]",
      "text/latex": [
       "$\\displaystyle y{\\left(t \\right)} = \\left(C_{1} + \\sqrt{\\pi} \\operatorname{erfi}{\\left(\\frac{t}{2} \\right)}\\right) e^{- \\frac{t^{2}}{4}}$"
      ],
      "text/plain": [
       "                            2 \n",
       "                          -t  \n",
       "                          ────\n",
       "       ⎛            ⎛t⎞⎞   4  \n",
       "y(t) = ⎜C₁ + √π⋅erfi⎜─⎟⎟⋅ℯ    \n",
       "       ⎝            ⎝2⎠⎠      "
      ]
     },
     "execution_count": 65,
     "metadata": {},
     "output_type": "execute_result"
    }
   ],
   "source": [
    "t = sym.symbols('t')\n",
    "y = sym.Function('y')\n",
    "sym.dsolve(sym.Eq(2*y(t).diff(t)+t*y(t),2))"
   ]
  },
  {
   "cell_type": "markdown",
   "metadata": {},
   "source": [
    "We can use the `odeint` numerical solver to produce graphs of several different particular solutions – this replicates Figure 2.1.4 from Boyce & DiPrima:"
   ]
  },
  {
   "cell_type": "code",
   "execution_count": 79,
   "metadata": {},
   "outputs": [],
   "source": [
    "def dy_dt(y, t):\n",
    "    return(1-t*y/2)\n",
    "\n",
    "t = np.linspace(0, 6, 50)\n",
    "\n",
    "for y0 in np.arange(-6, 6)/2:\n",
    "    sol = odeint(dy_dt, y0, t)\n",
    "    plt.plot(t, sol)\n",
    "\n",
    "plt.xlabel('t')\n",
    "plt.show()"
   ]
  },
  {
   "cell_type": "markdown",
   "metadata": {},
   "source": [
    "<span class=\"label label-danger\">Task</span> In the code above, do you understand `np.arange(-6, 6)/2`? Check what happens if you remove the `/2`."
   ]
  },
  {
   "cell_type": "markdown",
   "metadata": {},
   "source": [
    "<div class=\"alert alert-info\">\n",
    "    <h3>Exercise 3.1</h3>\n",
    "    <p>Use the <code>odeint</code> numerical solver to show particular solutions of $$y'+\\tfrac12y=\\tfrac12 e^{t/3},$$ with $y(0)\\in\\left\\{-2,-1,0,1,2,3,4\\right\\}$. (Note: this is replicating Figure 2.1.1 from p34 of Boyce &amp; DiPrima.)</p>\n",
    "</div>"
   ]
  },
  {
   "cell_type": "code",
   "execution_count": 80,
   "metadata": {},
   "outputs": [],
   "source": [
    "from sympy import exp\n",
    "\n",
    "def dy_dt(y, t):\n",
    "    return((1/2)*exp(t/3)-(1/2)*y)\n",
    "\n",
    "t = np.linspace(0, 6, 50)\n",
    "\n",
    "for y0 in np.arange(-6, 6)/2:\n",
    "    sol = odeint(dy_dt, y0, t)\n",
    "    plt.plot(t, sol)\n"
   ]
  },
  {
   "cell_type": "markdown",
   "metadata": {},
   "source": [
    "# 4. Numerical solution of systems of ODEs"
   ]
  },
  {
   "cell_type": "markdown",
   "metadata": {},
   "source": [
    "We will return to this in later labs, once we start studying nonlinear systems. For those, numerical methods are particularly important because the symbolic solutions are either complicated or impossible to compute.\n",
    "\n",
    "For now, we will look at a linear system, just to demonstrate the method:\n",
    "\n",
    "***\n",
    "### Example\n",
    "Plot the solution of the system $$\\mathbf{x}'=\\begin{pmatrix}-\\frac12 & 1\\\\ -1 & -\\frac12\\end{pmatrix}\\mathbf{x},$$\n",
    "with initial condition $(-2, -3)$. This appears as Example 1 in §7.6 of Boyce & DiPrima.\n",
    "***\n",
    "\n",
    "Translating the notation into something sensible in Python is the hard part here. We will use `X = [x1,x2]` to represent the vector $\\mathbf{x}$, so `dX_dt` represents $\\mathbf{x}'$. This is a function of `X` and the underlying time parameter `t`, which we encode in Python as follows:"
   ]
  },
  {
   "cell_type": "code",
   "execution_count": 9,
   "metadata": {},
   "outputs": [
    {
     "data": {
      "image/png": "[encoded data removed]",
      "text/plain": [
       "<Figure size 432x288 with 1 Axes>"
      ]
     },
     "metadata": {
      "needs_background": "light"
     },
     "output_type": "display_data"
    }
   ],
   "source": [
    "# Define the equation\n",
    "def dX_dt(X, t):\n",
    "    x1, x2 = X\n",
    "    return [-0.5*x1+x2, -x1-0.5*x2]\n",
    "\n",
    "# Initial conditions\n",
    "X0 = [-2, -3]\n",
    "\n",
    "# Set up the time samples\n",
    "t = np.linspace(0, 20, 100)\n",
    "\n",
    "# Solve\n",
    "Xsol = odeint(dX_dt, X0, t)\n",
    "\n",
    "# Plot the (x1, x2) coordinates of the solution\n",
    "plt.plot(Xsol[:, 0], Xsol[:, 1], 'b', label='X(t)')\n",
    "plt.legend(loc='best')\n",
    "plt.xlabel('x1')\n",
    "plt.ylabel('x2')\n",
    "plt.grid()"
   ]
  },
  {
   "cell_type": "markdown",
   "metadata": {},
   "source": [
    "<span class=\"label label-danger\">Task</span> Try adjusting the values in `np.linspace(0, 5, 100)` to see the effect on the plot. First try `np.linspace(0, 50, 100)`, then see if you can find a good choice of time interval and number of steps so that the plot gives a good representation of the behaviour."
   ]
  },
  {
   "cell_type": "markdown",
   "metadata": {},
   "source": [
    "Here we add several different trajectories to the plot, each with a different initial condition:"
   ]
  },
  {
   "cell_type": "code",
   "execution_count": 10,
   "metadata": {},
   "outputs": [
    {
     "data": {
      "image/png": "[encoded data removed]",
      "text/plain": [
       "<Figure size 432x288 with 1 Axes>"
      ]
     },
     "metadata": {
      "needs_background": "light"
     },
     "output_type": "display_data"
    }
   ],
   "source": [
    "# Define the equation\n",
    "def dX_dt(X, t):\n",
    "    x1, x2 = X\n",
    "    return [-0.5*x1+x2, -x1-0.5*x2]\n",
    "\n",
    "# Set up the time samples\n",
    "t = np.linspace(0, 50, 1000)\n",
    "\n",
    "for x0 in np.arange(-2,3):\n",
    "    # Initial conditions\n",
    "    X0 = [x0, -3]\n",
    "    \n",
    "    # Solve\n",
    "    Xsol = odeint(dX_dt, X0, t)\n",
    "    \n",
    "    # Plot the (x1, x2) coordinates of the solution\n",
    "    plt.plot(Xsol[:, 0], Xsol[:, 1])\n",
    "\n",
    "plt.xlabel('x1')\n",
    "plt.ylabel('x2')\n",
    "plt.grid()"
   ]
  },
  {
   "cell_type": "markdown",
   "metadata": {},
   "source": [
    "<div class=\"alert alert-info\">\n",
    "    <h3>Exercise 4.1</h3>\n",
    "    <p>Use a similar method to show particular solutions of $$\\mathbf{x}'=\\begin{pmatrix}-3 & \\sqrt{2}\\\\ \\sqrt{2} & -2\\end{pmatrix}\\mathbf{x},$$ with initial conditions $x_1=2$ and $x_2\\in\\{-3, -2.5, \\ldots, 1.5, 2\\}$. (Note: this is replicating some features of Figure 7.5.4 from p402 of Boyce &amp; DiPrima.)</p>\n",
    "</div>"
   ]
  },
  {
   "cell_type": "code",
   "execution_count": 14,
   "metadata": {},
   "outputs": [
    {
     "data": {
      "image/png": "[encoded data removed]",
      "text/plain": [
       "<Figure size 432x288 with 1 Axes>"
      ]
     },
     "metadata": {
      "needs_background": "light"
     },
     "output_type": "display_data"
    }
   ],
   "source": [
    "# Define the equation\n",
    "def dX_dt(X, t):\n",
    "    x1, x2 = X\n",
    "    return [-3*x1+np.sqrt(2)*x2, np.sqrt(2)*x1-2*x2]\n",
    "\n",
    "# Set up the time samples\n",
    "t = np.linspace(0, 50, 1000)\n",
    "\n",
    "for x0 in np.arange(-3,2):\n",
    "    # Initial conditions\n",
    "    X0 = [2, x0]\n",
    "    \n",
    "    # Solve\n",
    "    Xsol = odeint(dX_dt, X0, t)\n",
    "    \n",
    "    # Plot the (x1, x2) coordinates of the solution\n",
    "    plt.plot(Xsol[:, 0], Xsol[:, 1])\n",
    "\n",
    "plt.xlabel('x1')\n",
    "plt.ylabel('x2')\n",
    "plt.grid()"
   ]
  },
  {
   "cell_type": "markdown",
   "metadata": {},
   "source": [
    "We will continue to develop these methods in the next couple of labs, so that ultimately we can produce informative phase portraits to help our understanding of the differential equations in the course."
   ]
  }
 ],
 "metadata": {
  "kernelspec": {
   "display_name": "Python 3",
   "language": "python",
   "name": "python3"
  },
  "language_info": {
   "codemirror_mode": {
    "name": "ipython",
    "version": 3
   },
   "file_extension": ".py",
   "mimetype": "text/x-python",
   "name": "python",
   "nbconvert_exporter": "python",
   "pygments_lexer": "ipython3",
   "version": "3.7.3"
  }
 },
 "nbformat": 4,
 "nbformat_minor": 2
}
