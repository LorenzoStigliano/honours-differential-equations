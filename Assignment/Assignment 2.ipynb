{
 "cells": [
  {
   "cell_type": "code",
   "execution_count": 11,
   "metadata": {},
   "outputs": [
    {
     "data": {
      "text/plain": [
       "10"
      ]
     },
     "execution_count": 11,
     "metadata": {},
     "output_type": "execute_result"
    }
   ],
   "source": [
    "import math\n",
    "import numpy as np\n",
    "\n",
    "def num_steps(start, stop, h):\n",
    "    steps = math.ceil((stop - start)/h)\n",
    "    return steps\n",
    "num_steps(0, 1.0, 0.1)"
   ]
  },
  {
   "cell_type": "code",
   "execution_count": null,
   "metadata": {},
   "outputs": [],
   "source": [
    "print(list_stepsizes(0,1,[10,20,30]))\n",
    "[0.1, 0.05, 0.03333333333333333]\n",
    "print(list_stepsizes(0,2,[10,20,50,100]))\n",
    "[0.2, 0.1, 0.04, 0.02]\n",
    "print(list_stepsizes(0.1,0.9,[10,100,1000]))\n",
    "[0.08, 0.008, 0.0008]"
   ]
  },
  {
   "cell_type": "code",
   "execution_count": 14,
   "metadata": {},
   "outputs": [
    {
     "name": "stdout",
     "output_type": "stream",
     "text": [
      "[0.1, 0.05, 0.03333333333333333]\n",
      "[0.2, 0.1, 0.04, 0.02]\n",
      "[0.08, 0.008, 0.0008]\n"
     ]
    },
    {
     "data": {
      "text/plain": [
       "(None, None, None)"
      ]
     },
     "execution_count": 14,
     "metadata": {},
     "output_type": "execute_result"
    }
   ],
   "source": [
    "def list_stepsizes(start,stop,L):\n",
    "    stepsizes = [(stop - start)/h for h in L]\n",
    "    return stepsizes\n",
    "print(list_stepsizes(0,1,[10,20,30])),print(list_stepsizes(0,2,[10,20,50,100])),print(list_stepsizes(0.1,0.9,[10,100,1000]))"
   ]
  },
  {
   "cell_type": "code",
   "execution_count": 18,
   "metadata": {},
   "outputs": [
    {
     "name": "stdout",
     "output_type": "stream",
     "text": [
      "[[0.5       ]\n",
      " [0.50462185]\n",
      " [0.51016949]\n",
      " [0.51666667]\n",
      " [0.52413793]\n",
      " [0.5326087 ]\n",
      " [0.54210527]\n",
      " [0.55265487]\n",
      " [0.56428572]\n",
      " [0.57702703]\n",
      " [0.59090909]\n",
      " [0.60596331]\n",
      " [0.62222223]\n",
      " [0.63971963]\n",
      " [0.65849057]]\n"
     ]
    }
   ],
   "source": [
    "def eq1_dy_dt(y, t):\n",
    "    return (y**2+ 2*t*y)/(3+t**2)\n",
    "\n",
    "start = 0 \n",
    "end = [0.4,0.5,0.7]\n",
    "h = 0.05\n",
    "\n",
    "def RungeKutta(vectorField,times,initialConditions):\n",
    "    n = vectorField(initialConditions,times[0]).size\n",
    "    x = np.zeros((times.size,n))\n",
    "    x[0,:] = initialConditions\n",
    "    for k, t in enumerate(times[:-1]):\n",
    "        dt=times[k+1]-t\n",
    "        f1 = vectorField(x[k,:],t)\n",
    "        f2 = vectorField(x[k,:]+0.5*dt*f1,t+0.5*dt)\n",
    "        f3 = vectorField(x[k,:]+0.5*dt*f2,t+0.5*dt)\n",
    "        f4 =vectorField(x[k,:]+dt*f3,t+dt)\n",
    "        x[k+1,:] = x[k,:]+dt/6*(f1+2*f2+2*f3+f4)\n",
    "    return x\n",
    "import math\n",
    "def timesteps(start, stop, h):\n",
    "    num_steps = math.ceil((stop - start)/h)\n",
    "    return np.linspace(start, start+num_steps*h, num_steps+1)\n",
    "def RungeKutta_step(vectorField, start, stop, h, ics):\n",
    "    t = timesteps(start, stop, h)\n",
    "    x = RungeKutta(vectorField, t, ics)\n",
    "    return x, t\n",
    "\n",
    "a , b = (RungeKutta_step(eq1_dy_dt,0,0.7,0.05,0.5))\n",
    "print(a)"
   ]
  },
  {
   "cell_type": "code",
   "execution_count": 26,
   "metadata": {},
   "outputs": [
    {
     "name": "stdout",
     "output_type": "stream",
     "text": [
      "[array([1.37678094]), array([1.41582396]), array([1.49969291])]\n"
     ]
    }
   ],
   "source": [
    "def eq1_dy_dt(y, t):\n",
    "    return 5*t - 2*(y)**0.5\n",
    "\n",
    "start = 0 \n",
    "end = [0.5,0.6,0.7]\n",
    "h = 0.025\n",
    "ics = 2\n",
    "\n",
    "def Heun(vectorField,times,initialConditions):\n",
    "    n = vectorField(initialConditions,times[0]).size\n",
    "    x = np.zeros((times.size,n))\n",
    "    x[0,:] = initialConditions\n",
    "    for k, t in enumerate(times[:-1]):\n",
    "        dt = times[k+1]-t\n",
    "        f1 = vectorField(x[k,:],t)\n",
    "        f2 = vectorField(x[k,:]+dt*f1,t+dt)\n",
    "        x[k+1,:] = x[k,:]+0.5*dt*(f1+f2)\n",
    "    return x\n",
    "import math\n",
    "def timesteps(start, stop, h):\n",
    "    num_steps = math.ceil((stop - start)/h)\n",
    "    return np.linspace(start, start+num_steps*h, num_steps+1)\n",
    "def Heun_step(vectorField, start, stop, h, ics):\n",
    "    t = timesteps(start, stop, h)\n",
    "    x = Heun(vectorField, t, ics)\n",
    "    return x[-1]\n",
    "\n",
    "a = [(Heun_step(eq1_dy_dt,start,t,h,ics)) for t in end]\n",
    "print(a)"
   ]
  },
  {
   "cell_type": "code",
   "execution_count": 33,
   "metadata": {},
   "outputs": [
    {
     "name": "stdout",
     "output_type": "stream",
     "text": [
      "[[array([2.23616]), array([1.4544343])], [array([12.84042829]), array([15.98470959])]]\n"
     ]
    }
   ],
   "source": [
    "def Euler(vectorFieldX,vectorFieldY,times,initialConditionsX,initialConditionsY):\n",
    "    n = vectorFieldX(initialConditionsX,initialConditionsY,times[0]).size\n",
    "    x = np.zeros((times.size,n))\n",
    "    y = np.zeros((times.size,n))\n",
    "    x[0,:] = initialConditionsX\n",
    "    y[0,:] = initialConditionsY\n",
    "    for k, t in enumerate(times[:-1]):\n",
    "        x[k+1,:] = x[k,:]+(times[k+1]-t)*vectorFieldX(x[k,:],y[k,:],t)\n",
    "        y[k+1,:] = y[k,:]+(times[k+1]-t)*vectorFieldY(x[k,:],y[k,:],t)\n",
    "    return x,y\n",
    "\n",
    "import math\n",
    "def timesteps(start, stop, h):\n",
    "    num_steps = math.ceil((stop - start)/h)\n",
    "    return np.linspace(start, start+num_steps*h, num_steps+1)\n",
    "\n",
    "def Euler_step_2(vectorFieldX, vectorFieldY, start, stop, h, icsX, icsY):\n",
    "    t = timesteps(start, stop, h)\n",
    "    x,y = Euler(vectorFieldX,vectorFieldY,t,icsX,icsY)\n",
    "    return [x[-1], y[-1]]\n",
    "\n",
    "def vectorfieldX_eq1(x,y,t):\n",
    "    return 3*x + t*y\n",
    "\n",
    "def vectorfieldY_eq1(x,y,t):\n",
    "    return x*y + 0*t\n",
    "start = 0\n",
    "stop = [0.3,0.9]\n",
    "icsX = 1\n",
    "icsY = 1\n",
    "h = 0.1\n",
    "\n",
    "a = [(Euler_step_2(vectorfieldX_eq1,vectorfieldY_eq1,start,t,h,icsX,icsY)) for t in stop]\n",
    "print(a)"
   ]
  },
  {
   "cell_type": "code",
   "execution_count": null,
   "metadata": {},
   "outputs": [],
   "source": []
  }
 ],
 "metadata": {
  "kernelspec": {
   "display_name": "Python 3",
   "language": "python",
   "name": "python3"
  },
  "language_info": {
   "codemirror_mode": {
    "name": "ipython",
    "version": 3
   },
   "file_extension": ".py",
   "mimetype": "text/x-python",
   "name": "python",
   "nbconvert_exporter": "python",
   "pygments_lexer": "ipython3",
   "version": "3.7.3"
  }
 },
 "nbformat": 4,
 "nbformat_minor": 2
}
